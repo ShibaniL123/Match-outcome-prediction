{
  "nbformat": 4,
  "nbformat_minor": 0,
  "metadata": {
    "accelerator": "GPU",
    "colab": {
      "name": "Match_Outcome_Prediction_new.ipynb",
      "provenance": [],
      "collapsed_sections": [],
      "toc_visible": true
    },
    "kernelspec": {
      "display_name": "Python 3",
      "language": "python",
      "name": "python3"
    },
    "language_info": {
      "codemirror_mode": {
        "name": "ipython",
        "version": 3
      },
      "file_extension": ".py",
      "mimetype": "text/x-python",
      "name": "python",
      "nbconvert_exporter": "python",
      "pygments_lexer": "ipython3",
      "version": "3.7.7"
    }
  },
  "cells": [
    {
      "cell_type": "markdown",
      "metadata": {
        "id": "0YJgoJGb9oAL"
      },
      "source": [
        "# Import required packages"
      ]
    },
    {
      "cell_type": "markdown",
      "metadata": {
        "id": "hGl6dQd09LX1"
      },
      "source": [
        "Import Numpy"
      ]
    },
    {
      "cell_type": "code",
      "metadata": {
        "id": "fpQpMUDl9Pab"
      },
      "source": [
        "import numpy as np"
      ],
      "execution_count": 3,
      "outputs": []
    },
    {
      "cell_type": "markdown",
      "metadata": {
        "id": "L0Hbwiu59RwZ"
      },
      "source": [
        "Import Pandas"
      ]
    },
    {
      "cell_type": "code",
      "metadata": {
        "id": "M0C5jHRx9Ty_"
      },
      "source": [
        "import pandas as pd"
      ],
      "execution_count": 4,
      "outputs": []
    },
    {
      "cell_type": "markdown",
      "metadata": {
        "id": "l1POPq109WVz"
      },
      "source": [
        "Import Pyplot from Matplotlib"
      ]
    },
    {
      "cell_type": "code",
      "metadata": {
        "id": "6gTGT3FC9aJd"
      },
      "source": [
        "import matplotlib.pyplot as plt"
      ],
      "execution_count": 5,
      "outputs": []
    },
    {
      "cell_type": "markdown",
      "metadata": {
        "id": "PDaPC2JN9h8c"
      },
      "source": [
        "Import Scikit Learn Modules"
      ]
    },
    {
      "cell_type": "code",
      "metadata": {
        "id": "knzv3vdSCOi9"
      },
      "source": [
        "from sklearn import linear_model\n",
        "from sklearn import ensemble\n",
        "from sklearn.model_selection import train_test_split\n",
        "from sklearn.metrics import confusion_matrix, roc_curve, roc_auc_score\n",
        "from sklearn.pipeline import Pipeline\n",
        "from sklearn.preprocessing import PolynomialFeatures\n",
        "from sklearn import preprocessing\n",
        "from sklearn.naive_bayes import GaussianNB\n",
        "from sklearn import metrics\n",
        "from sklearn.neighbors import KNeighborsClassifier\n",
        "from sklearn import svm\n",
        "from sklearn.tree import DecisionTreeClassifier"
      ],
      "execution_count": 6,
      "outputs": []
    },
    {
      "cell_type": "markdown",
      "metadata": {
        "id": "aF2oORhBKIys"
      },
      "source": [
        "Import Seaborn"
      ]
    },
    {
      "cell_type": "code",
      "metadata": {
        "scrolled": true,
        "id": "PA7UoWEhKIyt"
      },
      "source": [
        "import seaborn as sns"
      ],
      "execution_count": 7,
      "outputs": []
    },
    {
      "cell_type": "markdown",
      "metadata": {
        "id": "KhArxvEyKIy2"
      },
      "source": [
        "Import Pickle"
      ]
    },
    {
      "cell_type": "code",
      "metadata": {
        "id": "NsoJh6O1KIy4"
      },
      "source": [
        "import pickle"
      ],
      "execution_count": 8,
      "outputs": []
    },
    {
      "cell_type": "markdown",
      "metadata": {
        "id": "vt-FkBFcKIzD"
      },
      "source": [
        "Import Tensorflow"
      ]
    },
    {
      "cell_type": "code",
      "metadata": {
        "id": "YfVpB3OBKIzE"
      },
      "source": [
        "import tensorflow as tf"
      ],
      "execution_count": 9,
      "outputs": []
    },
    {
      "cell_type": "markdown",
      "metadata": {
        "id": "IhtpuLhmKIzP"
      },
      "source": [
        "Import keras"
      ]
    },
    {
      "cell_type": "code",
      "metadata": {
        "id": "ehLTPmu8KIzR"
      },
      "source": [
        "from keras.models import Sequential\n",
        "from keras.layers import Dense"
      ],
      "execution_count": 10,
      "outputs": []
    },
    {
      "cell_type": "markdown",
      "metadata": {
        "id": "22NNKcat7tcE"
      },
      "source": [
        "# Dataset ETL"
      ]
    },
    {
      "cell_type": "markdown",
      "metadata": {
        "id": "LR4OvMDDn7ZK"
      },
      "source": [
        "Loading of Rankings Dataset"
      ]
    },
    {
      "cell_type": "code",
      "metadata": {
        "scrolled": false,
        "id": "LgCWGYwwKIzZ"
      },
      "source": [
        "#read ranking file\n",
        "rankings_df = pd.read_csv(\"/content/drive/My Drive/fifa_ranking.csv\")"
      ],
      "execution_count": 11,
      "outputs": []
    },
    {
      "cell_type": "markdown",
      "metadata": {
        "id": "o6MGD2eXKIzi"
      },
      "source": [
        "Load Matches Dataset"
      ]
    },
    {
      "cell_type": "code",
      "metadata": {
        "id": "n1aez7mMKIzj"
      },
      "source": [
        "#read match results file\n",
        "\n",
        "matches_df = pd.read_csv(\"/content/drive/My Drive/results.csv\")"
      ],
      "execution_count": 12,
      "outputs": []
    },
    {
      "cell_type": "code",
      "metadata": {
        "id": "NY5HmCATc6lT",
        "colab": {
          "base_uri": "https://localhost:8080/"
        },
        "outputId": "04f54438-3579-44c9-dcd8-149529ef9ba1"
      },
      "source": [
        "from google.colab import drive\n",
        "drive.mount('/content/drive')"
      ],
      "execution_count": 1,
      "outputs": [
        {
          "output_type": "stream",
          "text": [
            "Mounted at /content/drive\n"
          ],
          "name": "stdout"
        }
      ]
    },
    {
      "cell_type": "markdown",
      "metadata": {
        "id": "E0nIJjTDKIzs"
      },
      "source": [
        "# Data Preprocessing"
      ]
    },
    {
      "cell_type": "markdown",
      "metadata": {
        "id": "X1iUMfs-KIzt"
      },
      "source": [
        "Preprocessing of Rankings dataset"
      ]
    },
    {
      "cell_type": "code",
      "metadata": {
        "id": "4ou4xscTM5ja",
        "colab": {
          "base_uri": "https://localhost:8080/",
          "height": 444
        },
        "outputId": "796e6266-a6cd-499d-993e-f6fd444d8d88"
      },
      "source": [
        "rankings_df"
      ],
      "execution_count": null,
      "outputs": [
        {
          "output_type": "execute_result",
          "data": {
            "text/html": [
              "<div>\n",
              "<style scoped>\n",
              "    .dataframe tbody tr th:only-of-type {\n",
              "        vertical-align: middle;\n",
              "    }\n",
              "\n",
              "    .dataframe tbody tr th {\n",
              "        vertical-align: top;\n",
              "    }\n",
              "\n",
              "    .dataframe thead th {\n",
              "        text-align: right;\n",
              "    }\n",
              "</style>\n",
              "<table border=\"1\" class=\"dataframe\">\n",
              "  <thead>\n",
              "    <tr style=\"text-align: right;\">\n",
              "      <th></th>\n",
              "      <th>rank</th>\n",
              "      <th>country_full</th>\n",
              "      <th>country_abrv</th>\n",
              "      <th>total_points</th>\n",
              "      <th>previous_points</th>\n",
              "      <th>rank_change</th>\n",
              "      <th>cur_year_avg</th>\n",
              "      <th>cur_year_avg_weighted</th>\n",
              "      <th>last_year_avg</th>\n",
              "      <th>last_year_avg_weighted</th>\n",
              "      <th>two_year_ago_avg</th>\n",
              "      <th>two_year_ago_weighted</th>\n",
              "      <th>three_year_ago_avg</th>\n",
              "      <th>three_year_ago_weighted</th>\n",
              "      <th>confederation</th>\n",
              "      <th>rank_date</th>\n",
              "    </tr>\n",
              "  </thead>\n",
              "  <tbody>\n",
              "    <tr>\n",
              "      <th>0</th>\n",
              "      <td>1</td>\n",
              "      <td>Germany</td>\n",
              "      <td>GER</td>\n",
              "      <td>0.0</td>\n",
              "      <td>57</td>\n",
              "      <td>0</td>\n",
              "      <td>0.0</td>\n",
              "      <td>0.0</td>\n",
              "      <td>0.0</td>\n",
              "      <td>0.0</td>\n",
              "      <td>0.0</td>\n",
              "      <td>0.0</td>\n",
              "      <td>0.0</td>\n",
              "      <td>0.0</td>\n",
              "      <td>UEFA</td>\n",
              "      <td>1993-08-08</td>\n",
              "    </tr>\n",
              "    <tr>\n",
              "      <th>1</th>\n",
              "      <td>2</td>\n",
              "      <td>Italy</td>\n",
              "      <td>ITA</td>\n",
              "      <td>0.0</td>\n",
              "      <td>57</td>\n",
              "      <td>0</td>\n",
              "      <td>0.0</td>\n",
              "      <td>0.0</td>\n",
              "      <td>0.0</td>\n",
              "      <td>0.0</td>\n",
              "      <td>0.0</td>\n",
              "      <td>0.0</td>\n",
              "      <td>0.0</td>\n",
              "      <td>0.0</td>\n",
              "      <td>UEFA</td>\n",
              "      <td>1993-08-08</td>\n",
              "    </tr>\n",
              "    <tr>\n",
              "      <th>2</th>\n",
              "      <td>3</td>\n",
              "      <td>Switzerland</td>\n",
              "      <td>SUI</td>\n",
              "      <td>0.0</td>\n",
              "      <td>50</td>\n",
              "      <td>9</td>\n",
              "      <td>0.0</td>\n",
              "      <td>0.0</td>\n",
              "      <td>0.0</td>\n",
              "      <td>0.0</td>\n",
              "      <td>0.0</td>\n",
              "      <td>0.0</td>\n",
              "      <td>0.0</td>\n",
              "      <td>0.0</td>\n",
              "      <td>UEFA</td>\n",
              "      <td>1993-08-08</td>\n",
              "    </tr>\n",
              "    <tr>\n",
              "      <th>3</th>\n",
              "      <td>4</td>\n",
              "      <td>Sweden</td>\n",
              "      <td>SWE</td>\n",
              "      <td>0.0</td>\n",
              "      <td>55</td>\n",
              "      <td>0</td>\n",
              "      <td>0.0</td>\n",
              "      <td>0.0</td>\n",
              "      <td>0.0</td>\n",
              "      <td>0.0</td>\n",
              "      <td>0.0</td>\n",
              "      <td>0.0</td>\n",
              "      <td>0.0</td>\n",
              "      <td>0.0</td>\n",
              "      <td>UEFA</td>\n",
              "      <td>1993-08-08</td>\n",
              "    </tr>\n",
              "    <tr>\n",
              "      <th>4</th>\n",
              "      <td>5</td>\n",
              "      <td>Argentina</td>\n",
              "      <td>ARG</td>\n",
              "      <td>0.0</td>\n",
              "      <td>51</td>\n",
              "      <td>5</td>\n",
              "      <td>0.0</td>\n",
              "      <td>0.0</td>\n",
              "      <td>0.0</td>\n",
              "      <td>0.0</td>\n",
              "      <td>0.0</td>\n",
              "      <td>0.0</td>\n",
              "      <td>0.0</td>\n",
              "      <td>0.0</td>\n",
              "      <td>CONMEBOL</td>\n",
              "      <td>1993-08-08</td>\n",
              "    </tr>\n",
              "    <tr>\n",
              "      <th>...</th>\n",
              "      <td>...</td>\n",
              "      <td>...</td>\n",
              "      <td>...</td>\n",
              "      <td>...</td>\n",
              "      <td>...</td>\n",
              "      <td>...</td>\n",
              "      <td>...</td>\n",
              "      <td>...</td>\n",
              "      <td>...</td>\n",
              "      <td>...</td>\n",
              "      <td>...</td>\n",
              "      <td>...</td>\n",
              "      <td>...</td>\n",
              "      <td>...</td>\n",
              "      <td>...</td>\n",
              "      <td>...</td>\n",
              "    </tr>\n",
              "    <tr>\n",
              "      <th>57788</th>\n",
              "      <td>206</td>\n",
              "      <td>Anguilla</td>\n",
              "      <td>AIA</td>\n",
              "      <td>0.0</td>\n",
              "      <td>0</td>\n",
              "      <td>1</td>\n",
              "      <td>0.0</td>\n",
              "      <td>0.0</td>\n",
              "      <td>0.0</td>\n",
              "      <td>0.0</td>\n",
              "      <td>0.0</td>\n",
              "      <td>0.0</td>\n",
              "      <td>0.0</td>\n",
              "      <td>0.0</td>\n",
              "      <td>CONCACAF</td>\n",
              "      <td>2018-06-07</td>\n",
              "    </tr>\n",
              "    <tr>\n",
              "      <th>57789</th>\n",
              "      <td>206</td>\n",
              "      <td>Bahamas</td>\n",
              "      <td>BAH</td>\n",
              "      <td>0.0</td>\n",
              "      <td>0</td>\n",
              "      <td>1</td>\n",
              "      <td>0.0</td>\n",
              "      <td>0.0</td>\n",
              "      <td>0.0</td>\n",
              "      <td>0.0</td>\n",
              "      <td>0.0</td>\n",
              "      <td>0.0</td>\n",
              "      <td>0.0</td>\n",
              "      <td>0.0</td>\n",
              "      <td>CONCACAF</td>\n",
              "      <td>2018-06-07</td>\n",
              "    </tr>\n",
              "    <tr>\n",
              "      <th>57790</th>\n",
              "      <td>206</td>\n",
              "      <td>Eritrea</td>\n",
              "      <td>ERI</td>\n",
              "      <td>0.0</td>\n",
              "      <td>0</td>\n",
              "      <td>1</td>\n",
              "      <td>0.0</td>\n",
              "      <td>0.0</td>\n",
              "      <td>0.0</td>\n",
              "      <td>0.0</td>\n",
              "      <td>0.0</td>\n",
              "      <td>0.0</td>\n",
              "      <td>0.0</td>\n",
              "      <td>0.0</td>\n",
              "      <td>CAF</td>\n",
              "      <td>2018-06-07</td>\n",
              "    </tr>\n",
              "    <tr>\n",
              "      <th>57791</th>\n",
              "      <td>206</td>\n",
              "      <td>Somalia</td>\n",
              "      <td>SOM</td>\n",
              "      <td>0.0</td>\n",
              "      <td>0</td>\n",
              "      <td>1</td>\n",
              "      <td>0.0</td>\n",
              "      <td>0.0</td>\n",
              "      <td>0.0</td>\n",
              "      <td>0.0</td>\n",
              "      <td>0.0</td>\n",
              "      <td>0.0</td>\n",
              "      <td>0.0</td>\n",
              "      <td>0.0</td>\n",
              "      <td>CAF</td>\n",
              "      <td>2018-06-07</td>\n",
              "    </tr>\n",
              "    <tr>\n",
              "      <th>57792</th>\n",
              "      <td>206</td>\n",
              "      <td>Tonga</td>\n",
              "      <td>TGA</td>\n",
              "      <td>0.0</td>\n",
              "      <td>0</td>\n",
              "      <td>1</td>\n",
              "      <td>0.0</td>\n",
              "      <td>0.0</td>\n",
              "      <td>0.0</td>\n",
              "      <td>0.0</td>\n",
              "      <td>0.0</td>\n",
              "      <td>0.0</td>\n",
              "      <td>0.0</td>\n",
              "      <td>0.0</td>\n",
              "      <td>OFC</td>\n",
              "      <td>2018-06-07</td>\n",
              "    </tr>\n",
              "  </tbody>\n",
              "</table>\n",
              "<p>57793 rows × 16 columns</p>\n",
              "</div>"
            ],
            "text/plain": [
              "       rank country_full  ... confederation   rank_date\n",
              "0         1      Germany  ...          UEFA  1993-08-08\n",
              "1         2        Italy  ...          UEFA  1993-08-08\n",
              "2         3  Switzerland  ...          UEFA  1993-08-08\n",
              "3         4       Sweden  ...          UEFA  1993-08-08\n",
              "4         5    Argentina  ...      CONMEBOL  1993-08-08\n",
              "...     ...          ...  ...           ...         ...\n",
              "57788   206     Anguilla  ...      CONCACAF  2018-06-07\n",
              "57789   206      Bahamas  ...      CONCACAF  2018-06-07\n",
              "57790   206      Eritrea  ...           CAF  2018-06-07\n",
              "57791   206      Somalia  ...           CAF  2018-06-07\n",
              "57792   206        Tonga  ...           OFC  2018-06-07\n",
              "\n",
              "[57793 rows x 16 columns]"
            ]
          },
          "metadata": {
            "tags": []
          },
          "execution_count": 101
        }
      ]
    },
    {
      "cell_type": "code",
      "metadata": {
        "id": "ucrNAQdnJHuX",
        "colab": {
          "base_uri": "https://localhost:8080/",
          "height": 714
        },
        "outputId": "834a0522-db50-42b5-c127-cea081389ec0"
      },
      "source": [
        "plt.figure(figsize=(12,10))\n",
        "cor = rankings_df.corr()\n",
        "sns.heatmap(cor, annot=True, cmap=plt.cm.Reds)\n",
        "plt.show()"
      ],
      "execution_count": null,
      "outputs": [
        {
          "output_type": "display_data",
          "data": {
            "image/png": "[encoded data removed]",
            "text/plain": [
              "<Figure size 864x720 with 2 Axes>"
            ]
          },
          "metadata": {
            "tags": []
          }
        }
      ]
    },
    {
      "cell_type": "code",
      "metadata": {
        "id": "jMgO1vnFYwx9",
        "colab": {
          "base_uri": "https://localhost:8080/",
          "height": 596
        },
        "outputId": "65580320-c92a-4af2-89aa-af47a3f5924a"
      },
      "source": [
        "plt.figure(figsize=(12,10))\n",
        "cor = matches_df.corr()\n",
        "sns.heatmap(cor, annot=True, cmap=plt.cm.Reds)\n",
        "plt.show()"
      ],
      "execution_count": null,
      "outputs": [
        {
          "output_type": "display_data",
          "data": {
            "image/png": "[encoded data removed]",
            "text/plain": [
              "<Figure size 864x720 with 2 Axes>"
            ]
          },
          "metadata": {
            "tags": []
          }
        }
      ]
    },
    {
      "cell_type": "code",
      "metadata": {
        "id": "PCfDRonTKIzv"
      },
      "source": [
        "#select required columns\n",
        "rankings_df = rankings_df.loc[:,['rank', 'country_full', 'cur_year_avg_weighted', 'rank_date', 'two_year_ago_weighted', 'three_year_ago_weighted', 'confederation']]\n",
        "#aggregate points\n",
        "rankings_df['weighted_points'] =  rankings_df['cur_year_avg_weighted'] + rankings_df['two_year_ago_weighted'] + rankings_df['three_year_ago_weighted']\n",
        "#convert date string to date object\n",
        "rankings_df['rank_date'] = pd.to_datetime(rankings_df['rank_date'])\n",
        "#extract year from date\n",
        "rankings_df['rank_year'] = pd.DatetimeIndex(rankings_df['rank_date']).year\n",
        "#extract useful columns\n",
        "rankings_df = rankings_df.loc[:, ['rank', 'country_full', 'weighted_points', 'rank_year']]\n",
        "#aggregate rank and points\n",
        "rankings_df = rankings_df.groupby(['country_full', 'rank_year']).mean().reset_index()"
      ],
      "execution_count": null,
      "outputs": []
    },
    {
      "cell_type": "markdown",
      "metadata": {
        "id": "ay0DqlchKIz0"
      },
      "source": [
        "Display rows of Rankings dataset"
      ]
    },
    {
      "cell_type": "code",
      "metadata": {
        "id": "jUE2ABG6KIz2",
        "colab": {
          "base_uri": "https://localhost:8080/",
          "height": 444
        },
        "outputId": "4fc92673-a09b-441e-cc84-6355d4616cec"
      },
      "source": [
        "rankings_df"
      ],
      "execution_count": null,
      "outputs": [
        {
          "output_type": "execute_result",
          "data": {
            "text/html": [
              "<div>\n",
              "<style scoped>\n",
              "    .dataframe tbody tr th:only-of-type {\n",
              "        vertical-align: middle;\n",
              "    }\n",
              "\n",
              "    .dataframe tbody tr th {\n",
              "        vertical-align: top;\n",
              "    }\n",
              "\n",
              "    .dataframe thead th {\n",
              "        text-align: right;\n",
              "    }\n",
              "</style>\n",
              "<table border=\"1\" class=\"dataframe\">\n",
              "  <thead>\n",
              "    <tr style=\"text-align: right;\">\n",
              "      <th></th>\n",
              "      <th>rank</th>\n",
              "      <th>country_full</th>\n",
              "      <th>country_abrv</th>\n",
              "      <th>total_points</th>\n",
              "      <th>previous_points</th>\n",
              "      <th>rank_change</th>\n",
              "      <th>cur_year_avg</th>\n",
              "      <th>cur_year_avg_weighted</th>\n",
              "      <th>last_year_avg</th>\n",
              "      <th>last_year_avg_weighted</th>\n",
              "      <th>two_year_ago_avg</th>\n",
              "      <th>two_year_ago_weighted</th>\n",
              "      <th>three_year_ago_avg</th>\n",
              "      <th>three_year_ago_weighted</th>\n",
              "      <th>confederation</th>\n",
              "      <th>rank_date</th>\n",
              "    </tr>\n",
              "  </thead>\n",
              "  <tbody>\n",
              "    <tr>\n",
              "      <th>0</th>\n",
              "      <td>1</td>\n",
              "      <td>Germany</td>\n",
              "      <td>GER</td>\n",
              "      <td>0.0</td>\n",
              "      <td>57</td>\n",
              "      <td>0</td>\n",
              "      <td>0.0</td>\n",
              "      <td>0.0</td>\n",
              "      <td>0.0</td>\n",
              "      <td>0.0</td>\n",
              "      <td>0.0</td>\n",
              "      <td>0.0</td>\n",
              "      <td>0.0</td>\n",
              "      <td>0.0</td>\n",
              "      <td>UEFA</td>\n",
              "      <td>1993-08-08</td>\n",
              "    </tr>\n",
              "    <tr>\n",
              "      <th>1</th>\n",
              "      <td>2</td>\n",
              "      <td>Italy</td>\n",
              "      <td>ITA</td>\n",
              "      <td>0.0</td>\n",
              "      <td>57</td>\n",
              "      <td>0</td>\n",
              "      <td>0.0</td>\n",
              "      <td>0.0</td>\n",
              "      <td>0.0</td>\n",
              "      <td>0.0</td>\n",
              "      <td>0.0</td>\n",
              "      <td>0.0</td>\n",
              "      <td>0.0</td>\n",
              "      <td>0.0</td>\n",
              "      <td>UEFA</td>\n",
              "      <td>1993-08-08</td>\n",
              "    </tr>\n",
              "    <tr>\n",
              "      <th>2</th>\n",
              "      <td>3</td>\n",
              "      <td>Switzerland</td>\n",
              "      <td>SUI</td>\n",
              "      <td>0.0</td>\n",
              "      <td>50</td>\n",
              "      <td>9</td>\n",
              "      <td>0.0</td>\n",
              "      <td>0.0</td>\n",
              "      <td>0.0</td>\n",
              "      <td>0.0</td>\n",
              "      <td>0.0</td>\n",
              "      <td>0.0</td>\n",
              "      <td>0.0</td>\n",
              "      <td>0.0</td>\n",
              "      <td>UEFA</td>\n",
              "      <td>1993-08-08</td>\n",
              "    </tr>\n",
              "    <tr>\n",
              "      <th>3</th>\n",
              "      <td>4</td>\n",
              "      <td>Sweden</td>\n",
              "      <td>SWE</td>\n",
              "      <td>0.0</td>\n",
              "      <td>55</td>\n",
              "      <td>0</td>\n",
              "      <td>0.0</td>\n",
              "      <td>0.0</td>\n",
              "      <td>0.0</td>\n",
              "      <td>0.0</td>\n",
              "      <td>0.0</td>\n",
              "      <td>0.0</td>\n",
              "      <td>0.0</td>\n",
              "      <td>0.0</td>\n",
              "      <td>UEFA</td>\n",
              "      <td>1993-08-08</td>\n",
              "    </tr>\n",
              "    <tr>\n",
              "      <th>4</th>\n",
              "      <td>5</td>\n",
              "      <td>Argentina</td>\n",
              "      <td>ARG</td>\n",
              "      <td>0.0</td>\n",
              "      <td>51</td>\n",
              "      <td>5</td>\n",
              "      <td>0.0</td>\n",
              "      <td>0.0</td>\n",
              "      <td>0.0</td>\n",
              "      <td>0.0</td>\n",
              "      <td>0.0</td>\n",
              "      <td>0.0</td>\n",
              "      <td>0.0</td>\n",
              "      <td>0.0</td>\n",
              "      <td>CONMEBOL</td>\n",
              "      <td>1993-08-08</td>\n",
              "    </tr>\n",
              "    <tr>\n",
              "      <th>...</th>\n",
              "      <td>...</td>\n",
              "      <td>...</td>\n",
              "      <td>...</td>\n",
              "      <td>...</td>\n",
              "      <td>...</td>\n",
              "      <td>...</td>\n",
              "      <td>...</td>\n",
              "      <td>...</td>\n",
              "      <td>...</td>\n",
              "      <td>...</td>\n",
              "      <td>...</td>\n",
              "      <td>...</td>\n",
              "      <td>...</td>\n",
              "      <td>...</td>\n",
              "      <td>...</td>\n",
              "      <td>...</td>\n",
              "    </tr>\n",
              "    <tr>\n",
              "      <th>57788</th>\n",
              "      <td>206</td>\n",
              "      <td>Anguilla</td>\n",
              "      <td>AIA</td>\n",
              "      <td>0.0</td>\n",
              "      <td>0</td>\n",
              "      <td>1</td>\n",
              "      <td>0.0</td>\n",
              "      <td>0.0</td>\n",
              "      <td>0.0</td>\n",
              "      <td>0.0</td>\n",
              "      <td>0.0</td>\n",
              "      <td>0.0</td>\n",
              "      <td>0.0</td>\n",
              "      <td>0.0</td>\n",
              "      <td>CONCACAF</td>\n",
              "      <td>2018-06-07</td>\n",
              "    </tr>\n",
              "    <tr>\n",
              "      <th>57789</th>\n",
              "      <td>206</td>\n",
              "      <td>Bahamas</td>\n",
              "      <td>BAH</td>\n",
              "      <td>0.0</td>\n",
              "      <td>0</td>\n",
              "      <td>1</td>\n",
              "      <td>0.0</td>\n",
              "      <td>0.0</td>\n",
              "      <td>0.0</td>\n",
              "      <td>0.0</td>\n",
              "      <td>0.0</td>\n",
              "      <td>0.0</td>\n",
              "      <td>0.0</td>\n",
              "      <td>0.0</td>\n",
              "      <td>CONCACAF</td>\n",
              "      <td>2018-06-07</td>\n",
              "    </tr>\n",
              "    <tr>\n",
              "      <th>57790</th>\n",
              "      <td>206</td>\n",
              "      <td>Eritrea</td>\n",
              "      <td>ERI</td>\n",
              "      <td>0.0</td>\n",
              "      <td>0</td>\n",
              "      <td>1</td>\n",
              "      <td>0.0</td>\n",
              "      <td>0.0</td>\n",
              "      <td>0.0</td>\n",
              "      <td>0.0</td>\n",
              "      <td>0.0</td>\n",
              "      <td>0.0</td>\n",
              "      <td>0.0</td>\n",
              "      <td>0.0</td>\n",
              "      <td>CAF</td>\n",
              "      <td>2018-06-07</td>\n",
              "    </tr>\n",
              "    <tr>\n",
              "      <th>57791</th>\n",
              "      <td>206</td>\n",
              "      <td>Somalia</td>\n",
              "      <td>SOM</td>\n",
              "      <td>0.0</td>\n",
              "      <td>0</td>\n",
              "      <td>1</td>\n",
              "      <td>0.0</td>\n",
              "      <td>0.0</td>\n",
              "      <td>0.0</td>\n",
              "      <td>0.0</td>\n",
              "      <td>0.0</td>\n",
              "      <td>0.0</td>\n",
              "      <td>0.0</td>\n",
              "      <td>0.0</td>\n",
              "      <td>CAF</td>\n",
              "      <td>2018-06-07</td>\n",
              "    </tr>\n",
              "    <tr>\n",
              "      <th>57792</th>\n",
              "      <td>206</td>\n",
              "      <td>Tonga</td>\n",
              "      <td>TGA</td>\n",
              "      <td>0.0</td>\n",
              "      <td>0</td>\n",
              "      <td>1</td>\n",
              "      <td>0.0</td>\n",
              "      <td>0.0</td>\n",
              "      <td>0.0</td>\n",
              "      <td>0.0</td>\n",
              "      <td>0.0</td>\n",
              "      <td>0.0</td>\n",
              "      <td>0.0</td>\n",
              "      <td>0.0</td>\n",
              "      <td>OFC</td>\n",
              "      <td>2018-06-07</td>\n",
              "    </tr>\n",
              "  </tbody>\n",
              "</table>\n",
              "<p>57793 rows × 16 columns</p>\n",
              "</div>"
            ],
            "text/plain": [
              "       rank country_full  ... confederation   rank_date\n",
              "0         1      Germany  ...          UEFA  1993-08-08\n",
              "1         2        Italy  ...          UEFA  1993-08-08\n",
              "2         3  Switzerland  ...          UEFA  1993-08-08\n",
              "3         4       Sweden  ...          UEFA  1993-08-08\n",
              "4         5    Argentina  ...      CONMEBOL  1993-08-08\n",
              "...     ...          ...  ...           ...         ...\n",
              "57788   206     Anguilla  ...      CONCACAF  2018-06-07\n",
              "57789   206      Bahamas  ...      CONCACAF  2018-06-07\n",
              "57790   206      Eritrea  ...           CAF  2018-06-07\n",
              "57791   206      Somalia  ...           CAF  2018-06-07\n",
              "57792   206        Tonga  ...           OFC  2018-06-07\n",
              "\n",
              "[57793 rows x 16 columns]"
            ]
          },
          "metadata": {
            "tags": []
          },
          "execution_count": 44
        }
      ]
    },
    {
      "cell_type": "markdown",
      "metadata": {
        "id": "9c9Hwi2yoBEI"
      },
      "source": [
        "Preprocessing of Match Results dataset"
      ]
    },
    {
      "cell_type": "code",
      "metadata": {
        "id": "lnJLxwSKKI0A"
      },
      "source": [
        "#convert date string to date object\n",
        "matches_df['date'] = pd.to_datetime(matches_df['date'])\n",
        "#extract year from date\n",
        "matches_df['match_year'] = pd.DatetimeIndex(matches_df['date']).year\n",
        "matches_df = matches_df.loc[:, ['match_year', 'home_team', 'away_team', 'home_score', 'away_score', 'neutral', 'tournament']]"
      ],
      "execution_count": null,
      "outputs": []
    },
    {
      "cell_type": "markdown",
      "metadata": {
        "id": "BEYCotJoKI0E"
      },
      "source": [
        "Display rows of Match Results dataset"
      ]
    },
    {
      "cell_type": "code",
      "metadata": {
        "id": "2QwXb50wKI0F",
        "colab": {
          "base_uri": "https://localhost:8080/",
          "height": 424
        },
        "outputId": "c5171e84-ff34-4e88-8b57-c3ad27859cba"
      },
      "source": [
        "matches_df"
      ],
      "execution_count": null,
      "outputs": [
        {
          "output_type": "execute_result",
          "data": {
            "text/html": [
              "<div>\n",
              "<style scoped>\n",
              "    .dataframe tbody tr th:only-of-type {\n",
              "        vertical-align: middle;\n",
              "    }\n",
              "\n",
              "    .dataframe tbody tr th {\n",
              "        vertical-align: top;\n",
              "    }\n",
              "\n",
              "    .dataframe thead th {\n",
              "        text-align: right;\n",
              "    }\n",
              "</style>\n",
              "<table border=\"1\" class=\"dataframe\">\n",
              "  <thead>\n",
              "    <tr style=\"text-align: right;\">\n",
              "      <th></th>\n",
              "      <th>match_year</th>\n",
              "      <th>home_team</th>\n",
              "      <th>away_team</th>\n",
              "      <th>home_score</th>\n",
              "      <th>away_score</th>\n",
              "      <th>neutral</th>\n",
              "      <th>tournament</th>\n",
              "    </tr>\n",
              "  </thead>\n",
              "  <tbody>\n",
              "    <tr>\n",
              "      <th>0</th>\n",
              "      <td>1872</td>\n",
              "      <td>Scotland</td>\n",
              "      <td>England</td>\n",
              "      <td>0</td>\n",
              "      <td>0</td>\n",
              "      <td>False</td>\n",
              "      <td>Friendly</td>\n",
              "    </tr>\n",
              "    <tr>\n",
              "      <th>1</th>\n",
              "      <td>1873</td>\n",
              "      <td>England</td>\n",
              "      <td>Scotland</td>\n",
              "      <td>4</td>\n",
              "      <td>2</td>\n",
              "      <td>False</td>\n",
              "      <td>Friendly</td>\n",
              "    </tr>\n",
              "    <tr>\n",
              "      <th>2</th>\n",
              "      <td>1874</td>\n",
              "      <td>Scotland</td>\n",
              "      <td>England</td>\n",
              "      <td>2</td>\n",
              "      <td>1</td>\n",
              "      <td>False</td>\n",
              "      <td>Friendly</td>\n",
              "    </tr>\n",
              "    <tr>\n",
              "      <th>3</th>\n",
              "      <td>1875</td>\n",
              "      <td>England</td>\n",
              "      <td>Scotland</td>\n",
              "      <td>2</td>\n",
              "      <td>2</td>\n",
              "      <td>False</td>\n",
              "      <td>Friendly</td>\n",
              "    </tr>\n",
              "    <tr>\n",
              "      <th>4</th>\n",
              "      <td>1876</td>\n",
              "      <td>Scotland</td>\n",
              "      <td>England</td>\n",
              "      <td>3</td>\n",
              "      <td>0</td>\n",
              "      <td>False</td>\n",
              "      <td>Friendly</td>\n",
              "    </tr>\n",
              "    <tr>\n",
              "      <th>...</th>\n",
              "      <td>...</td>\n",
              "      <td>...</td>\n",
              "      <td>...</td>\n",
              "      <td>...</td>\n",
              "      <td>...</td>\n",
              "      <td>...</td>\n",
              "      <td>...</td>\n",
              "    </tr>\n",
              "    <tr>\n",
              "      <th>41581</th>\n",
              "      <td>2020</td>\n",
              "      <td>Barbados</td>\n",
              "      <td>Canada</td>\n",
              "      <td>1</td>\n",
              "      <td>4</td>\n",
              "      <td>True</td>\n",
              "      <td>Friendly</td>\n",
              "    </tr>\n",
              "    <tr>\n",
              "      <th>41582</th>\n",
              "      <td>2020</td>\n",
              "      <td>Kosovo</td>\n",
              "      <td>Sweden</td>\n",
              "      <td>0</td>\n",
              "      <td>1</td>\n",
              "      <td>True</td>\n",
              "      <td>Friendly</td>\n",
              "    </tr>\n",
              "    <tr>\n",
              "      <th>41583</th>\n",
              "      <td>2020</td>\n",
              "      <td>Canada</td>\n",
              "      <td>Iceland</td>\n",
              "      <td>0</td>\n",
              "      <td>1</td>\n",
              "      <td>True</td>\n",
              "      <td>Friendly</td>\n",
              "    </tr>\n",
              "    <tr>\n",
              "      <th>41584</th>\n",
              "      <td>2020</td>\n",
              "      <td>El Salvador</td>\n",
              "      <td>Iceland</td>\n",
              "      <td>0</td>\n",
              "      <td>1</td>\n",
              "      <td>True</td>\n",
              "      <td>Friendly</td>\n",
              "    </tr>\n",
              "    <tr>\n",
              "      <th>41585</th>\n",
              "      <td>2020</td>\n",
              "      <td>United States</td>\n",
              "      <td>Costa Rica</td>\n",
              "      <td>1</td>\n",
              "      <td>0</td>\n",
              "      <td>False</td>\n",
              "      <td>Friendly</td>\n",
              "    </tr>\n",
              "  </tbody>\n",
              "</table>\n",
              "<p>41586 rows × 7 columns</p>\n",
              "</div>"
            ],
            "text/plain": [
              "       match_year      home_team   away_team  ...  away_score  neutral  tournament\n",
              "0            1872       Scotland     England  ...           0    False    Friendly\n",
              "1            1873        England    Scotland  ...           2    False    Friendly\n",
              "2            1874       Scotland     England  ...           1    False    Friendly\n",
              "3            1875        England    Scotland  ...           2    False    Friendly\n",
              "4            1876       Scotland     England  ...           0    False    Friendly\n",
              "...           ...            ...         ...  ...         ...      ...         ...\n",
              "41581        2020       Barbados      Canada  ...           4     True    Friendly\n",
              "41582        2020         Kosovo      Sweden  ...           1     True    Friendly\n",
              "41583        2020         Canada     Iceland  ...           1     True    Friendly\n",
              "41584        2020    El Salvador     Iceland  ...           1     True    Friendly\n",
              "41585        2020  United States  Costa Rica  ...           0    False    Friendly\n",
              "\n",
              "[41586 rows x 7 columns]"
            ]
          },
          "metadata": {
            "tags": []
          },
          "execution_count": 106
        }
      ]
    },
    {
      "cell_type": "markdown",
      "metadata": {
        "id": "6Ik1v-DdKI0M"
      },
      "source": [
        "Join the two datasets"
      ]
    },
    {
      "cell_type": "code",
      "metadata": {
        "id": "0icsVd7WKI0O"
      },
      "source": [
        "merged_df = matches_df.merge(rankings_df, how='left', left_on=['match_year', 'home_team'], right_on=['rank_year', 'country_full'])\n",
        "merged_df = merged_df.merge(rankings_df, how='left', left_on=['match_year', 'away_team'], right_on=['rank_year', 'country_full'], suffixes=('_home', '_away'))\n",
        "merged_df = merged_df.dropna()\n",
        "merged_df.reset_index(inplace=True)"
      ],
      "execution_count": null,
      "outputs": []
    },
    {
      "cell_type": "markdown",
      "metadata": {
        "id": "8H0UHxmqKI0U"
      },
      "source": [
        "Display rows of merged datasets"
      ]
    },
    {
      "cell_type": "code",
      "metadata": {
        "scrolled": true,
        "id": "WBagkvFcKI0V",
        "colab": {
          "base_uri": "https://localhost:8080/",
          "height": 513
        },
        "outputId": "5ac6d868-9755-4ce4-dac4-d56cd5273259"
      },
      "source": [
        "merged_df"
      ],
      "execution_count": null,
      "outputs": [
        {
          "output_type": "execute_result",
          "data": {
            "text/html": [
              "<div>\n",
              "<style scoped>\n",
              "    .dataframe tbody tr th:only-of-type {\n",
              "        vertical-align: middle;\n",
              "    }\n",
              "\n",
              "    .dataframe tbody tr th {\n",
              "        vertical-align: top;\n",
              "    }\n",
              "\n",
              "    .dataframe thead th {\n",
              "        text-align: right;\n",
              "    }\n",
              "</style>\n",
              "<table border=\"1\" class=\"dataframe\">\n",
              "  <thead>\n",
              "    <tr style=\"text-align: right;\">\n",
              "      <th></th>\n",
              "      <th>index</th>\n",
              "      <th>match_year</th>\n",
              "      <th>home_team</th>\n",
              "      <th>away_team</th>\n",
              "      <th>home_score</th>\n",
              "      <th>away_score</th>\n",
              "      <th>neutral</th>\n",
              "      <th>tournament</th>\n",
              "      <th>country_full_home</th>\n",
              "      <th>rank_year_home</th>\n",
              "      <th>rank_home</th>\n",
              "      <th>weighted_points_home</th>\n",
              "      <th>country_full_away</th>\n",
              "      <th>rank_year_away</th>\n",
              "      <th>rank_away</th>\n",
              "      <th>weighted_points_away</th>\n",
              "    </tr>\n",
              "  </thead>\n",
              "  <tbody>\n",
              "    <tr>\n",
              "      <th>0</th>\n",
              "      <td>17374</td>\n",
              "      <td>1993</td>\n",
              "      <td>Ghana</td>\n",
              "      <td>Mali</td>\n",
              "      <td>1</td>\n",
              "      <td>1</td>\n",
              "      <td>True</td>\n",
              "      <td>Friendly</td>\n",
              "      <td>Ghana</td>\n",
              "      <td>1993.0</td>\n",
              "      <td>41.600000</td>\n",
              "      <td>0.000000</td>\n",
              "      <td>Mali</td>\n",
              "      <td>1993.0</td>\n",
              "      <td>72.400000</td>\n",
              "      <td>0.000000</td>\n",
              "    </tr>\n",
              "    <tr>\n",
              "      <th>1</th>\n",
              "      <td>17375</td>\n",
              "      <td>1993</td>\n",
              "      <td>Gabon</td>\n",
              "      <td>Burkina Faso</td>\n",
              "      <td>1</td>\n",
              "      <td>1</td>\n",
              "      <td>False</td>\n",
              "      <td>Friendly</td>\n",
              "      <td>Gabon</td>\n",
              "      <td>1993.0</td>\n",
              "      <td>57.000000</td>\n",
              "      <td>0.000000</td>\n",
              "      <td>Burkina Faso</td>\n",
              "      <td>1993.0</td>\n",
              "      <td>121.000000</td>\n",
              "      <td>0.000000</td>\n",
              "    </tr>\n",
              "    <tr>\n",
              "      <th>2</th>\n",
              "      <td>17376</td>\n",
              "      <td>1993</td>\n",
              "      <td>Kuwait</td>\n",
              "      <td>Lebanon</td>\n",
              "      <td>2</td>\n",
              "      <td>0</td>\n",
              "      <td>False</td>\n",
              "      <td>Friendly</td>\n",
              "      <td>Kuwait</td>\n",
              "      <td>1993.0</td>\n",
              "      <td>62.200000</td>\n",
              "      <td>0.000000</td>\n",
              "      <td>Lebanon</td>\n",
              "      <td>1993.0</td>\n",
              "      <td>109.400000</td>\n",
              "      <td>0.000000</td>\n",
              "    </tr>\n",
              "    <tr>\n",
              "      <th>3</th>\n",
              "      <td>17377</td>\n",
              "      <td>1993</td>\n",
              "      <td>Burkina Faso</td>\n",
              "      <td>Mali</td>\n",
              "      <td>1</td>\n",
              "      <td>0</td>\n",
              "      <td>True</td>\n",
              "      <td>Friendly</td>\n",
              "      <td>Burkina Faso</td>\n",
              "      <td>1993.0</td>\n",
              "      <td>121.000000</td>\n",
              "      <td>0.000000</td>\n",
              "      <td>Mali</td>\n",
              "      <td>1993.0</td>\n",
              "      <td>72.400000</td>\n",
              "      <td>0.000000</td>\n",
              "    </tr>\n",
              "    <tr>\n",
              "      <th>4</th>\n",
              "      <td>17378</td>\n",
              "      <td>1993</td>\n",
              "      <td>Gabon</td>\n",
              "      <td>Ghana</td>\n",
              "      <td>2</td>\n",
              "      <td>3</td>\n",
              "      <td>False</td>\n",
              "      <td>Friendly</td>\n",
              "      <td>Gabon</td>\n",
              "      <td>1993.0</td>\n",
              "      <td>57.000000</td>\n",
              "      <td>0.000000</td>\n",
              "      <td>Ghana</td>\n",
              "      <td>1993.0</td>\n",
              "      <td>41.600000</td>\n",
              "      <td>0.000000</td>\n",
              "    </tr>\n",
              "    <tr>\n",
              "      <th>...</th>\n",
              "      <td>...</td>\n",
              "      <td>...</td>\n",
              "      <td>...</td>\n",
              "      <td>...</td>\n",
              "      <td>...</td>\n",
              "      <td>...</td>\n",
              "      <td>...</td>\n",
              "      <td>...</td>\n",
              "      <td>...</td>\n",
              "      <td>...</td>\n",
              "      <td>...</td>\n",
              "      <td>...</td>\n",
              "      <td>...</td>\n",
              "      <td>...</td>\n",
              "      <td>...</td>\n",
              "      <td>...</td>\n",
              "    </tr>\n",
              "    <tr>\n",
              "      <th>18414</th>\n",
              "      <td>40415</td>\n",
              "      <td>2018</td>\n",
              "      <td>Iraq</td>\n",
              "      <td>Palestine</td>\n",
              "      <td>1</td>\n",
              "      <td>0</td>\n",
              "      <td>True</td>\n",
              "      <td>Friendly</td>\n",
              "      <td>Iraq</td>\n",
              "      <td>2018.0</td>\n",
              "      <td>86.333333</td>\n",
              "      <td>340.760000</td>\n",
              "      <td>Palestine</td>\n",
              "      <td>2018.0</td>\n",
              "      <td>83.166667</td>\n",
              "      <td>351.638333</td>\n",
              "    </tr>\n",
              "    <tr>\n",
              "      <th>18415</th>\n",
              "      <td>40416</td>\n",
              "      <td>2018</td>\n",
              "      <td>United Arab Emirates</td>\n",
              "      <td>Kuwait</td>\n",
              "      <td>0</td>\n",
              "      <td>2</td>\n",
              "      <td>False</td>\n",
              "      <td>Friendly</td>\n",
              "      <td>United Arab Emirates</td>\n",
              "      <td>2018.0</td>\n",
              "      <td>79.000000</td>\n",
              "      <td>304.606667</td>\n",
              "      <td>Kuwait</td>\n",
              "      <td>2018.0</td>\n",
              "      <td>169.333333</td>\n",
              "      <td>107.161667</td>\n",
              "    </tr>\n",
              "    <tr>\n",
              "      <th>18416</th>\n",
              "      <td>40418</td>\n",
              "      <td>2018</td>\n",
              "      <td>Australia</td>\n",
              "      <td>Oman</td>\n",
              "      <td>5</td>\n",
              "      <td>0</td>\n",
              "      <td>True</td>\n",
              "      <td>Friendly</td>\n",
              "      <td>Australia</td>\n",
              "      <td>2018.0</td>\n",
              "      <td>37.500000</td>\n",
              "      <td>544.818333</td>\n",
              "      <td>Oman</td>\n",
              "      <td>2018.0</td>\n",
              "      <td>93.833333</td>\n",
              "      <td>305.090000</td>\n",
              "    </tr>\n",
              "    <tr>\n",
              "      <th>18417</th>\n",
              "      <td>40419</td>\n",
              "      <td>2018</td>\n",
              "      <td>Yemen</td>\n",
              "      <td>Syria</td>\n",
              "      <td>0</td>\n",
              "      <td>1</td>\n",
              "      <td>True</td>\n",
              "      <td>Friendly</td>\n",
              "      <td>Yemen</td>\n",
              "      <td>2018.0</td>\n",
              "      <td>133.166667</td>\n",
              "      <td>147.311667</td>\n",
              "      <td>Syria</td>\n",
              "      <td>2018.0</td>\n",
              "      <td>75.000000</td>\n",
              "      <td>314.398333</td>\n",
              "    </tr>\n",
              "    <tr>\n",
              "      <th>18418</th>\n",
              "      <td>40422</td>\n",
              "      <td>2018</td>\n",
              "      <td>Philippines</td>\n",
              "      <td>Vietnam</td>\n",
              "      <td>2</td>\n",
              "      <td>4</td>\n",
              "      <td>True</td>\n",
              "      <td>Friendly</td>\n",
              "      <td>Philippines</td>\n",
              "      <td>2018.0</td>\n",
              "      <td>117.833333</td>\n",
              "      <td>213.435000</td>\n",
              "      <td>Vietnam</td>\n",
              "      <td>2018.0</td>\n",
              "      <td>107.333333</td>\n",
              "      <td>262.240000</td>\n",
              "    </tr>\n",
              "  </tbody>\n",
              "</table>\n",
              "<p>18419 rows × 16 columns</p>\n",
              "</div>"
            ],
            "text/plain": [
              "       index  match_year  ...   rank_away weighted_points_away\n",
              "0      17374        1993  ...   72.400000             0.000000\n",
              "1      17375        1993  ...  121.000000             0.000000\n",
              "2      17376        1993  ...  109.400000             0.000000\n",
              "3      17377        1993  ...   72.400000             0.000000\n",
              "4      17378        1993  ...   41.600000             0.000000\n",
              "...      ...         ...  ...         ...                  ...\n",
              "18414  40415        2018  ...   83.166667           351.638333\n",
              "18415  40416        2018  ...  169.333333           107.161667\n",
              "18416  40418        2018  ...   93.833333           305.090000\n",
              "18417  40419        2018  ...   75.000000           314.398333\n",
              "18418  40422        2018  ...  107.333333           262.240000\n",
              "\n",
              "[18419 rows x 16 columns]"
            ]
          },
          "metadata": {
            "tags": []
          },
          "execution_count": 108
        }
      ]
    },
    {
      "cell_type": "markdown",
      "metadata": {
        "id": "IDuTUk0NKI0a"
      },
      "source": [
        "# Data Model Planning"
      ]
    },
    {
      "cell_type": "markdown",
      "metadata": {
        "id": "7NC0epNaKI0e"
      },
      "source": [
        "Generate required features in merged dataset"
      ]
    },
    {
      "cell_type": "code",
      "metadata": {
        "id": "IMuw0t3OCGoJ"
      },
      "source": [
        "merged_df['rank_difference'] = merged_df['rank_home'] - merged_df['rank_away']\n",
        "merged_df['average_rank'] = (merged_df['rank_home'] + merged_df['rank_away'])/2\n",
        "merged_df['point_difference'] = merged_df['weighted_points_home'] - merged_df['weighted_points_away']\n",
        "merged_df['score_difference'] = merged_df['home_score'] - merged_df['away_score']\n",
        "merged_df['is_won'] = 'tie'\n",
        "merged_df.loc[merged_df['score_difference'] > 0, 'is_won'] = 'yes'#merged_df['score_difference'] > 0 # take draw as lost\n",
        "merged_df.loc[merged_df['score_difference'] < 0, 'is_won'] = 'no'\n",
        "merged_df.loc[merged_df['score_difference'] == 0, 'is_won'] = 'tie'\n",
        "merged_df['is_stake'] = merged_df['tournament'] != 'Friendly'"
      ],
      "execution_count": null,
      "outputs": []
    },
    {
      "cell_type": "markdown",
      "metadata": {
        "id": "h7BglvX2KI0l"
      },
      "source": [
        "Encode tournament feature"
      ]
    },
    {
      "cell_type": "code",
      "metadata": {
        "id": "PrMOmn2UMHVG"
      },
      "source": [
        "label_encoder = preprocessing.LabelEncoder()\n",
        "label_encoder.fit(merged_df['tournament'])\n",
        "merged_df['tournament']=label_encoder.transform(merged_df['tournament'])"
      ],
      "execution_count": null,
      "outputs": []
    },
    {
      "cell_type": "markdown",
      "metadata": {
        "id": "JQHZjakgKI0q"
      },
      "source": [
        "Encode is won"
      ]
    },
    {
      "cell_type": "code",
      "metadata": {
        "id": "VjoH3989KI0s"
      },
      "source": [
        "label_encoder_won = preprocessing.LabelEncoder()\n",
        "label_encoder_won.fit(merged_df['is_won'])\n",
        "merged_df['is_won']=label_encoder_won.transform(merged_df['is_won'])"
      ],
      "execution_count": null,
      "outputs": []
    },
    {
      "cell_type": "code",
      "metadata": {
        "id": "eVMk66sedj-Y",
        "colab": {
          "base_uri": "https://localhost:8080/",
          "height": 513
        },
        "outputId": "eabb812e-6fa6-461e-c730-1117bd0eb368"
      },
      "source": [
        "merged_df"
      ],
      "execution_count": null,
      "outputs": [
        {
          "output_type": "execute_result",
          "data": {
            "text/html": [
              "<div>\n",
              "<style scoped>\n",
              "    .dataframe tbody tr th:only-of-type {\n",
              "        vertical-align: middle;\n",
              "    }\n",
              "\n",
              "    .dataframe tbody tr th {\n",
              "        vertical-align: top;\n",
              "    }\n",
              "\n",
              "    .dataframe thead th {\n",
              "        text-align: right;\n",
              "    }\n",
              "</style>\n",
              "<table border=\"1\" class=\"dataframe\">\n",
              "  <thead>\n",
              "    <tr style=\"text-align: right;\">\n",
              "      <th></th>\n",
              "      <th>index</th>\n",
              "      <th>match_year</th>\n",
              "      <th>home_team</th>\n",
              "      <th>away_team</th>\n",
              "      <th>home_score</th>\n",
              "      <th>away_score</th>\n",
              "      <th>neutral</th>\n",
              "      <th>tournament</th>\n",
              "      <th>country_full_home</th>\n",
              "      <th>rank_year_home</th>\n",
              "      <th>rank_home</th>\n",
              "      <th>weighted_points_home</th>\n",
              "      <th>country_full_away</th>\n",
              "      <th>rank_year_away</th>\n",
              "      <th>rank_away</th>\n",
              "      <th>weighted_points_away</th>\n",
              "      <th>rank_difference</th>\n",
              "      <th>average_rank</th>\n",
              "      <th>point_difference</th>\n",
              "      <th>score_difference</th>\n",
              "      <th>is_won</th>\n",
              "      <th>is_stake</th>\n",
              "    </tr>\n",
              "  </thead>\n",
              "  <tbody>\n",
              "    <tr>\n",
              "      <th>0</th>\n",
              "      <td>17374</td>\n",
              "      <td>1993</td>\n",
              "      <td>Ghana</td>\n",
              "      <td>Mali</td>\n",
              "      <td>1</td>\n",
              "      <td>1</td>\n",
              "      <td>True</td>\n",
              "      <td>28</td>\n",
              "      <td>Ghana</td>\n",
              "      <td>1993.0</td>\n",
              "      <td>41.600000</td>\n",
              "      <td>0.000000</td>\n",
              "      <td>Mali</td>\n",
              "      <td>1993.0</td>\n",
              "      <td>72.400000</td>\n",
              "      <td>0.000000</td>\n",
              "      <td>-30.800000</td>\n",
              "      <td>57.000000</td>\n",
              "      <td>0.000000</td>\n",
              "      <td>0</td>\n",
              "      <td>1</td>\n",
              "      <td>False</td>\n",
              "    </tr>\n",
              "    <tr>\n",
              "      <th>1</th>\n",
              "      <td>17375</td>\n",
              "      <td>1993</td>\n",
              "      <td>Gabon</td>\n",
              "      <td>Burkina Faso</td>\n",
              "      <td>1</td>\n",
              "      <td>1</td>\n",
              "      <td>False</td>\n",
              "      <td>28</td>\n",
              "      <td>Gabon</td>\n",
              "      <td>1993.0</td>\n",
              "      <td>57.000000</td>\n",
              "      <td>0.000000</td>\n",
              "      <td>Burkina Faso</td>\n",
              "      <td>1993.0</td>\n",
              "      <td>121.000000</td>\n",
              "      <td>0.000000</td>\n",
              "      <td>-64.000000</td>\n",
              "      <td>89.000000</td>\n",
              "      <td>0.000000</td>\n",
              "      <td>0</td>\n",
              "      <td>1</td>\n",
              "      <td>False</td>\n",
              "    </tr>\n",
              "    <tr>\n",
              "      <th>2</th>\n",
              "      <td>17376</td>\n",
              "      <td>1993</td>\n",
              "      <td>Kuwait</td>\n",
              "      <td>Lebanon</td>\n",
              "      <td>2</td>\n",
              "      <td>0</td>\n",
              "      <td>False</td>\n",
              "      <td>28</td>\n",
              "      <td>Kuwait</td>\n",
              "      <td>1993.0</td>\n",
              "      <td>62.200000</td>\n",
              "      <td>0.000000</td>\n",
              "      <td>Lebanon</td>\n",
              "      <td>1993.0</td>\n",
              "      <td>109.400000</td>\n",
              "      <td>0.000000</td>\n",
              "      <td>-47.200000</td>\n",
              "      <td>85.800000</td>\n",
              "      <td>0.000000</td>\n",
              "      <td>2</td>\n",
              "      <td>2</td>\n",
              "      <td>False</td>\n",
              "    </tr>\n",
              "    <tr>\n",
              "      <th>3</th>\n",
              "      <td>17377</td>\n",
              "      <td>1993</td>\n",
              "      <td>Burkina Faso</td>\n",
              "      <td>Mali</td>\n",
              "      <td>1</td>\n",
              "      <td>0</td>\n",
              "      <td>True</td>\n",
              "      <td>28</td>\n",
              "      <td>Burkina Faso</td>\n",
              "      <td>1993.0</td>\n",
              "      <td>121.000000</td>\n",
              "      <td>0.000000</td>\n",
              "      <td>Mali</td>\n",
              "      <td>1993.0</td>\n",
              "      <td>72.400000</td>\n",
              "      <td>0.000000</td>\n",
              "      <td>48.600000</td>\n",
              "      <td>96.700000</td>\n",
              "      <td>0.000000</td>\n",
              "      <td>1</td>\n",
              "      <td>2</td>\n",
              "      <td>False</td>\n",
              "    </tr>\n",
              "    <tr>\n",
              "      <th>4</th>\n",
              "      <td>17378</td>\n",
              "      <td>1993</td>\n",
              "      <td>Gabon</td>\n",
              "      <td>Ghana</td>\n",
              "      <td>2</td>\n",
              "      <td>3</td>\n",
              "      <td>False</td>\n",
              "      <td>28</td>\n",
              "      <td>Gabon</td>\n",
              "      <td>1993.0</td>\n",
              "      <td>57.000000</td>\n",
              "      <td>0.000000</td>\n",
              "      <td>Ghana</td>\n",
              "      <td>1993.0</td>\n",
              "      <td>41.600000</td>\n",
              "      <td>0.000000</td>\n",
              "      <td>15.400000</td>\n",
              "      <td>49.300000</td>\n",
              "      <td>0.000000</td>\n",
              "      <td>-1</td>\n",
              "      <td>0</td>\n",
              "      <td>False</td>\n",
              "    </tr>\n",
              "    <tr>\n",
              "      <th>...</th>\n",
              "      <td>...</td>\n",
              "      <td>...</td>\n",
              "      <td>...</td>\n",
              "      <td>...</td>\n",
              "      <td>...</td>\n",
              "      <td>...</td>\n",
              "      <td>...</td>\n",
              "      <td>...</td>\n",
              "      <td>...</td>\n",
              "      <td>...</td>\n",
              "      <td>...</td>\n",
              "      <td>...</td>\n",
              "      <td>...</td>\n",
              "      <td>...</td>\n",
              "      <td>...</td>\n",
              "      <td>...</td>\n",
              "      <td>...</td>\n",
              "      <td>...</td>\n",
              "      <td>...</td>\n",
              "      <td>...</td>\n",
              "      <td>...</td>\n",
              "      <td>...</td>\n",
              "    </tr>\n",
              "    <tr>\n",
              "      <th>18414</th>\n",
              "      <td>40415</td>\n",
              "      <td>2018</td>\n",
              "      <td>Iraq</td>\n",
              "      <td>Palestine</td>\n",
              "      <td>1</td>\n",
              "      <td>0</td>\n",
              "      <td>True</td>\n",
              "      <td>28</td>\n",
              "      <td>Iraq</td>\n",
              "      <td>2018.0</td>\n",
              "      <td>86.333333</td>\n",
              "      <td>340.760000</td>\n",
              "      <td>Palestine</td>\n",
              "      <td>2018.0</td>\n",
              "      <td>83.166667</td>\n",
              "      <td>351.638333</td>\n",
              "      <td>3.166667</td>\n",
              "      <td>84.750000</td>\n",
              "      <td>-10.878333</td>\n",
              "      <td>1</td>\n",
              "      <td>2</td>\n",
              "      <td>False</td>\n",
              "    </tr>\n",
              "    <tr>\n",
              "      <th>18415</th>\n",
              "      <td>40416</td>\n",
              "      <td>2018</td>\n",
              "      <td>United Arab Emirates</td>\n",
              "      <td>Kuwait</td>\n",
              "      <td>0</td>\n",
              "      <td>2</td>\n",
              "      <td>False</td>\n",
              "      <td>28</td>\n",
              "      <td>United Arab Emirates</td>\n",
              "      <td>2018.0</td>\n",
              "      <td>79.000000</td>\n",
              "      <td>304.606667</td>\n",
              "      <td>Kuwait</td>\n",
              "      <td>2018.0</td>\n",
              "      <td>169.333333</td>\n",
              "      <td>107.161667</td>\n",
              "      <td>-90.333333</td>\n",
              "      <td>124.166667</td>\n",
              "      <td>197.445000</td>\n",
              "      <td>-2</td>\n",
              "      <td>0</td>\n",
              "      <td>False</td>\n",
              "    </tr>\n",
              "    <tr>\n",
              "      <th>18416</th>\n",
              "      <td>40418</td>\n",
              "      <td>2018</td>\n",
              "      <td>Australia</td>\n",
              "      <td>Oman</td>\n",
              "      <td>5</td>\n",
              "      <td>0</td>\n",
              "      <td>True</td>\n",
              "      <td>28</td>\n",
              "      <td>Australia</td>\n",
              "      <td>2018.0</td>\n",
              "      <td>37.500000</td>\n",
              "      <td>544.818333</td>\n",
              "      <td>Oman</td>\n",
              "      <td>2018.0</td>\n",
              "      <td>93.833333</td>\n",
              "      <td>305.090000</td>\n",
              "      <td>-56.333333</td>\n",
              "      <td>65.666667</td>\n",
              "      <td>239.728333</td>\n",
              "      <td>5</td>\n",
              "      <td>2</td>\n",
              "      <td>False</td>\n",
              "    </tr>\n",
              "    <tr>\n",
              "      <th>18417</th>\n",
              "      <td>40419</td>\n",
              "      <td>2018</td>\n",
              "      <td>Yemen</td>\n",
              "      <td>Syria</td>\n",
              "      <td>0</td>\n",
              "      <td>1</td>\n",
              "      <td>True</td>\n",
              "      <td>28</td>\n",
              "      <td>Yemen</td>\n",
              "      <td>2018.0</td>\n",
              "      <td>133.166667</td>\n",
              "      <td>147.311667</td>\n",
              "      <td>Syria</td>\n",
              "      <td>2018.0</td>\n",
              "      <td>75.000000</td>\n",
              "      <td>314.398333</td>\n",
              "      <td>58.166667</td>\n",
              "      <td>104.083333</td>\n",
              "      <td>-167.086667</td>\n",
              "      <td>-1</td>\n",
              "      <td>0</td>\n",
              "      <td>False</td>\n",
              "    </tr>\n",
              "    <tr>\n",
              "      <th>18418</th>\n",
              "      <td>40422</td>\n",
              "      <td>2018</td>\n",
              "      <td>Philippines</td>\n",
              "      <td>Vietnam</td>\n",
              "      <td>2</td>\n",
              "      <td>4</td>\n",
              "      <td>True</td>\n",
              "      <td>28</td>\n",
              "      <td>Philippines</td>\n",
              "      <td>2018.0</td>\n",
              "      <td>117.833333</td>\n",
              "      <td>213.435000</td>\n",
              "      <td>Vietnam</td>\n",
              "      <td>2018.0</td>\n",
              "      <td>107.333333</td>\n",
              "      <td>262.240000</td>\n",
              "      <td>10.500000</td>\n",
              "      <td>112.583333</td>\n",
              "      <td>-48.805000</td>\n",
              "      <td>-2</td>\n",
              "      <td>0</td>\n",
              "      <td>False</td>\n",
              "    </tr>\n",
              "  </tbody>\n",
              "</table>\n",
              "<p>18419 rows × 22 columns</p>\n",
              "</div>"
            ],
            "text/plain": [
              "       index  match_year  ... is_won is_stake\n",
              "0      17374        1993  ...      1    False\n",
              "1      17375        1993  ...      1    False\n",
              "2      17376        1993  ...      2    False\n",
              "3      17377        1993  ...      2    False\n",
              "4      17378        1993  ...      0    False\n",
              "...      ...         ...  ...    ...      ...\n",
              "18414  40415        2018  ...      2    False\n",
              "18415  40416        2018  ...      0    False\n",
              "18416  40418        2018  ...      2    False\n",
              "18417  40419        2018  ...      0    False\n",
              "18418  40422        2018  ...      0    False\n",
              "\n",
              "[18419 rows x 22 columns]"
            ]
          },
          "metadata": {
            "tags": []
          },
          "execution_count": 112
        }
      ]
    },
    {
      "cell_type": "markdown",
      "metadata": {
        "id": "ZNe6pZJGKI0x"
      },
      "source": [
        "Encode home team"
      ]
    },
    {
      "cell_type": "code",
      "metadata": {
        "id": "kv5YZIvzKI0y"
      },
      "source": [
        "label_encoder_home = preprocessing.LabelEncoder()\n",
        "label_encoder_home.fit(merged_df['home_team'])\n",
        "merged_df['home_team']=label_encoder_home.transform(merged_df['home_team'])"
      ],
      "execution_count": null,
      "outputs": []
    },
    {
      "cell_type": "markdown",
      "metadata": {
        "id": "rS8czC-7KI02"
      },
      "source": [
        "Encode away team"
      ]
    },
    {
      "cell_type": "code",
      "metadata": {
        "id": "V7cBNJT3KI04"
      },
      "source": [
        "label_encoder_away = preprocessing.LabelEncoder()\n",
        "label_encoder_away.fit(merged_df['away_team'])\n",
        "merged_df['away_team']=label_encoder_away.transform(merged_df['away_team'])"
      ],
      "execution_count": null,
      "outputs": []
    },
    {
      "cell_type": "markdown",
      "metadata": {
        "id": "4IoByZD58kr9"
      },
      "source": [
        "# Feature Selection - Dimensionality Reduction"
      ]
    },
    {
      "cell_type": "markdown",
      "metadata": {
        "id": "nF4CbaNLKI0-"
      },
      "source": [
        "Select Required Features"
      ]
    },
    {
      "cell_type": "code",
      "metadata": {
        "id": "Mz4-VEWICbfA"
      },
      "source": [
        "X_df = merged_df.loc[:,['home_team', 'away_team', 'rank_difference', 'point_difference', 'average_rank', 'tournament', 'is_stake', 'neutral']]\n",
        "y_df = merged_df['is_won']"
      ],
      "execution_count": null,
      "outputs": []
    },
    {
      "cell_type": "markdown",
      "metadata": {
        "id": "voLXlqC-KI1c"
      },
      "source": [
        "Generate Heat Map of features"
      ]
    },
    {
      "cell_type": "code",
      "metadata": {
        "id": "ASfADAbVKI1d",
        "colab": {
          "base_uri": "https://localhost:8080/",
          "height": 357
        },
        "outputId": "0d9e2a93-30c7-406c-d034-bcdf0afdca7a"
      },
      "source": [
        "sns.heatmap(X_df.corr(), cmap=\"Blues\")"
      ],
      "execution_count": null,
      "outputs": [
        {
          "output_type": "execute_result",
          "data": {
            "text/plain": [
              "<matplotlib.axes._subplots.AxesSubplot at 0x7fe60ccef5f8>"
            ]
          },
          "metadata": {
            "tags": []
          },
          "execution_count": 198
        },
        {
          "output_type": "display_data",
          "data": {
            "image/png": "[encoded data removed]",
            "text/plain": [
              "<Figure size 432x288 with 2 Axes>"
            ]
          },
          "metadata": {
            "tags": []
          }
        }
      ]
    },
    {
      "cell_type": "markdown",
      "metadata": {
        "id": "NJ96v8jfKI1l"
      },
      "source": [
        "Split dataset for training and testing"
      ]
    },
    {
      "cell_type": "code",
      "metadata": {
        "id": "XHEPwlcsKI1n"
      },
      "source": [
        "X_train, X_test, y_train, y_test = train_test_split(X_df, y_df, test_size=0.2, random_state=42)"
      ],
      "execution_count": null,
      "outputs": []
    },
    {
      "cell_type": "markdown",
      "metadata": {
        "id": "TQ7Cj69N8myL"
      },
      "source": [
        "# Data Model Building"
      ]
    },
    {
      "cell_type": "markdown",
      "metadata": {
        "id": "7qmHLUjaKI1r"
      },
      "source": [
        "Logistic Regression Classifier Model"
      ]
    },
    {
      "cell_type": "markdown",
      "metadata": {
        "id": "OtCUnTQ3KI1r"
      },
      "source": [
        "Create model (Design)"
      ]
    },
    {
      "cell_type": "code",
      "metadata": {
        "id": "N9xv3ZbIo6Wq"
      },
      "source": [
        "logistic_regression = linear_model.LogisticRegression(C=1e-5)\n",
        "features = PolynomialFeatures(degree=2)\n",
        "logistic_regression_model = Pipeline([('polynomial_features', features),('logistic_regression', logistic_regression)])"
      ],
      "execution_count": null,
      "outputs": []
    },
    {
      "cell_type": "markdown",
      "metadata": {
        "id": "yCB5sevOKI1v"
      },
      "source": [
        "Train the model"
      ]
    },
    {
      "cell_type": "code",
      "metadata": {
        "id": "N4pzCzqFI7tD",
        "colab": {
          "base_uri": "https://localhost:8080/",
          "height": 382
        },
        "outputId": "0b95af55-71db-4cf5-8d66-65e75d7aba84"
      },
      "source": [
        "logistic_regression_model.fit(X_train, y_train)"
      ],
      "execution_count": null,
      "outputs": [
        {
          "output_type": "stream",
          "text": [
            "/usr/local/lib/python3.6/dist-packages/sklearn/linear_model/_logistic.py:940: ConvergenceWarning: lbfgs failed to converge (status=1):\n",
            "STOP: TOTAL NO. of ITERATIONS REACHED LIMIT.\n",
            "\n",
            "Increase the number of iterations (max_iter) or scale the data as shown in:\n",
            "    https://scikit-learn.org/stable/modules/preprocessing.html\n",
            "Please also refer to the documentation for alternative solver options:\n",
            "    https://scikit-learn.org/stable/modules/linear_model.html#logistic-regression\n",
            "  extra_warning_msg=_LOGISTIC_SOLVER_CONVERGENCE_MSG)\n"
          ],
          "name": "stderr"
        },
        {
          "output_type": "execute_result",
          "data": {
            "text/plain": [
              "Pipeline(memory=None,\n",
              "         steps=[('polynomial_features',\n",
              "                 PolynomialFeatures(degree=2, include_bias=True,\n",
              "                                    interaction_only=False, order='C')),\n",
              "                ('logistic_regression',\n",
              "                 LogisticRegression(C=1e-05, class_weight=None, dual=False,\n",
              "                                    fit_intercept=True, intercept_scaling=1,\n",
              "                                    l1_ratio=None, max_iter=100,\n",
              "                                    multi_class='auto', n_jobs=None,\n",
              "                                    penalty='l2', random_state=None,\n",
              "                                    solver='lbfgs', tol=0.0001, verbose=0,\n",
              "                                    warm_start=False))],\n",
              "         verbose=False)"
            ]
          },
          "metadata": {
            "tags": []
          },
          "execution_count": 201
        }
      ]
    },
    {
      "cell_type": "markdown",
      "metadata": {
        "id": "pqpCJ1n5KI10"
      },
      "source": [
        "Test the model"
      ]
    },
    {
      "cell_type": "code",
      "metadata": {
        "id": "bsJC2BzMJB3l",
        "colab": {
          "base_uri": "https://localhost:8080/",
          "height": 34
        },
        "outputId": "3b1af831-00c6-4cca-c58c-0afe93cd663d"
      },
      "source": [
        "logistic_regression_model.score(X_test, y_test)"
      ],
      "execution_count": null,
      "outputs": [
        {
          "output_type": "execute_result",
          "data": {
            "text/plain": [
              "0.5887622149837134"
            ]
          },
          "metadata": {
            "tags": []
          },
          "execution_count": 202
        }
      ]
    },
    {
      "cell_type": "markdown",
      "metadata": {
        "id": "RpYJoWDEKI13"
      },
      "source": [
        "Save the model for further use"
      ]
    },
    {
      "cell_type": "code",
      "metadata": {
        "id": "wZECuIlRKI14"
      },
      "source": [
        "pickle.dump(logistic_regression_model, open(\"logistic_regression_model\", 'wb'))"
      ],
      "execution_count": null,
      "outputs": []
    },
    {
      "cell_type": "markdown",
      "metadata": {
        "id": "_QXZrrd7KI17"
      },
      "source": [
        "Naive Bayes Model"
      ]
    },
    {
      "cell_type": "markdown",
      "metadata": {
        "id": "2L3dlU5sKI18"
      },
      "source": [
        "Create model"
      ]
    },
    {
      "cell_type": "code",
      "metadata": {
        "id": "D4LN15mQJvf9"
      },
      "source": [
        "naive_bayes_model = GaussianNB()"
      ],
      "execution_count": null,
      "outputs": []
    },
    {
      "cell_type": "markdown",
      "metadata": {
        "id": "iSfs4LiqKI2A"
      },
      "source": [
        "Train the model"
      ]
    },
    {
      "cell_type": "code",
      "metadata": {
        "id": "DG_090zCKI2B",
        "colab": {
          "base_uri": "https://localhost:8080/",
          "height": 34
        },
        "outputId": "c8656b2a-0799-40cd-86d5-0efc70957d60"
      },
      "source": [
        "naive_bayes_model.fit(X_train, y_train)"
      ],
      "execution_count": null,
      "outputs": [
        {
          "output_type": "execute_result",
          "data": {
            "text/plain": [
              "GaussianNB(priors=None, var_smoothing=1e-09)"
            ]
          },
          "metadata": {
            "tags": []
          },
          "execution_count": 205
        }
      ]
    },
    {
      "cell_type": "markdown",
      "metadata": {
        "id": "v_y9NH6dKI2E"
      },
      "source": [
        "Test the model"
      ]
    },
    {
      "cell_type": "code",
      "metadata": {
        "id": "90vJQkLyKI2F",
        "colab": {
          "base_uri": "https://localhost:8080/",
          "height": 34
        },
        "outputId": "d8bbf67f-3cf8-4626-dd56-56ece9bdab63"
      },
      "source": [
        "y_pred = naive_bayes_model.predict(X_test)\n",
        "print(\"Accuracy:\",metrics.accuracy_score(y_test, y_pred))"
      ],
      "execution_count": null,
      "outputs": [
        {
          "output_type": "stream",
          "text": [
            "Accuracy: 0.5703040173724213\n"
          ],
          "name": "stdout"
        }
      ]
    },
    {
      "cell_type": "markdown",
      "metadata": {
        "id": "KkWFU8XaKI2I"
      },
      "source": [
        "Save the model for further use"
      ]
    },
    {
      "cell_type": "code",
      "metadata": {
        "id": "PlZ01MQcKI2J"
      },
      "source": [
        "pickle.dump(naive_bayes_model, open(\"naive_bayes_model\", 'wb'))"
      ],
      "execution_count": null,
      "outputs": []
    },
    {
      "cell_type": "markdown",
      "metadata": {
        "id": "W-aE8ed0KI2O"
      },
      "source": [
        "KNN Model"
      ]
    },
    {
      "cell_type": "markdown",
      "metadata": {
        "id": "xJHQ80aCKI2O"
      },
      "source": [
        "Create model"
      ]
    },
    {
      "cell_type": "code",
      "metadata": {
        "id": "BPYPbJC7KI2O"
      },
      "source": [
        "knn_model = KNeighborsClassifier(n_neighbors=3)"
      ],
      "execution_count": null,
      "outputs": []
    },
    {
      "cell_type": "markdown",
      "metadata": {
        "id": "pbpkP2t5KI2R"
      },
      "source": [
        "Train the model"
      ]
    },
    {
      "cell_type": "code",
      "metadata": {
        "id": "O0ieRrRiKI2S",
        "colab": {
          "base_uri": "https://localhost:8080/",
          "height": 69
        },
        "outputId": "10542fe5-66ed-43d6-a83e-15bd50ee1661"
      },
      "source": [
        "knn_model.fit(X_train, y_train)"
      ],
      "execution_count": null,
      "outputs": [
        {
          "output_type": "execute_result",
          "data": {
            "text/plain": [
              "KNeighborsClassifier(algorithm='auto', leaf_size=30, metric='minkowski',\n",
              "                     metric_params=None, n_jobs=None, n_neighbors=3, p=2,\n",
              "                     weights='uniform')"
            ]
          },
          "metadata": {
            "tags": []
          },
          "execution_count": 209
        }
      ]
    },
    {
      "cell_type": "markdown",
      "metadata": {
        "id": "N2RczGZMKI2V"
      },
      "source": [
        "Test the model"
      ]
    },
    {
      "cell_type": "code",
      "metadata": {
        "id": "jXVQCfTNKI2X",
        "colab": {
          "base_uri": "https://localhost:8080/",
          "height": 34
        },
        "outputId": "95ff1850-1fbc-4159-ae75-8a0262b4979a"
      },
      "source": [
        "y_pred = knn_model.predict(X_test)\n",
        "print(\"Accuracy:\",metrics.accuracy_score(y_test, y_pred))"
      ],
      "execution_count": null,
      "outputs": [
        {
          "output_type": "stream",
          "text": [
            "Accuracy: 0.49728555917481\n"
          ],
          "name": "stdout"
        }
      ]
    },
    {
      "cell_type": "markdown",
      "metadata": {
        "id": "SlXm7Ue9KI2b"
      },
      "source": [
        "Save the model for further use"
      ]
    },
    {
      "cell_type": "code",
      "metadata": {
        "id": "a8dOIHe2KI2c"
      },
      "source": [
        "pickle.dump(knn_model, open(\"knn_model\", 'wb'))"
      ],
      "execution_count": null,
      "outputs": []
    },
    {
      "cell_type": "markdown",
      "metadata": {
        "id": "SRUO76CFKI2f"
      },
      "source": [
        "SVM model"
      ]
    },
    {
      "cell_type": "markdown",
      "metadata": {
        "id": "vC7zhi0YKI2g"
      },
      "source": [
        "Create model"
      ]
    },
    {
      "cell_type": "code",
      "metadata": {
        "id": "cV7z-XMWKI2i"
      },
      "source": [
        "svm_model = svm.SVC(kernel='poly', probability=True)"
      ],
      "execution_count": null,
      "outputs": []
    },
    {
      "cell_type": "markdown",
      "metadata": {
        "id": "c0M2qjTMKI2k"
      },
      "source": [
        "Train the model"
      ]
    },
    {
      "cell_type": "code",
      "metadata": {
        "id": "33gTDUyAKI2l",
        "colab": {
          "base_uri": "https://localhost:8080/",
          "height": 86
        },
        "outputId": "225e55d0-a163-4b09-e13c-a10ba658cc44"
      },
      "source": [
        "svm_model.fit(X_train, y_train)"
      ],
      "execution_count": null,
      "outputs": [
        {
          "output_type": "execute_result",
          "data": {
            "text/plain": [
              "SVC(C=1.0, break_ties=False, cache_size=200, class_weight=None, coef0=0.0,\n",
              "    decision_function_shape='ovr', degree=3, gamma='scale', kernel='poly',\n",
              "    max_iter=-1, probability=True, random_state=None, shrinking=True, tol=0.001,\n",
              "    verbose=False)"
            ]
          },
          "metadata": {
            "tags": []
          },
          "execution_count": 214
        }
      ]
    },
    {
      "cell_type": "markdown",
      "metadata": {
        "id": "uvAaHfGPKI2q"
      },
      "source": [
        "Test the model"
      ]
    },
    {
      "cell_type": "code",
      "metadata": {
        "id": "vf_sCxquKI2q",
        "colab": {
          "base_uri": "https://localhost:8080/",
          "height": 34
        },
        "outputId": "4b08be8a-ecd8-43f0-8f3e-f38abbab5404"
      },
      "source": [
        "y_pred = svm_model.predict(X_test)\n",
        "print(\"Accuracy:\",metrics.accuracy_score(y_test, y_pred))"
      ],
      "execution_count": null,
      "outputs": [
        {
          "output_type": "stream",
          "text": [
            "Accuracy: 0.5754614549402823\n"
          ],
          "name": "stdout"
        }
      ]
    },
    {
      "cell_type": "markdown",
      "metadata": {
        "id": "GgBwrAHBKI2u"
      },
      "source": [
        "Save the model"
      ]
    },
    {
      "cell_type": "code",
      "metadata": {
        "id": "x4ex6LsdKI2v"
      },
      "source": [
        "pickle.dump(svm_model, open(\"svm_model\", 'wb'))"
      ],
      "execution_count": null,
      "outputs": []
    },
    {
      "cell_type": "markdown",
      "metadata": {
        "id": "ookNE-ORQe70"
      },
      "source": [
        "Random Forest Classifier"
      ]
    },
    {
      "cell_type": "code",
      "metadata": {
        "id": "DzqEB6v5Xy3k"
      },
      "source": [
        "X_df1=merged_df.loc[:,merged_df.columns!='is_won']"
      ],
      "execution_count": null,
      "outputs": []
    },
    {
      "cell_type": "code",
      "metadata": {
        "id": "Vy7O3zMQYaDa"
      },
      "source": [
        "X_train, X_test, y_train, y_test = train_test_split(X_df, y_df, test_size=0.2, random_state=42)"
      ],
      "execution_count": null,
      "outputs": []
    },
    {
      "cell_type": "code",
      "metadata": {
        "id": "wg94S-fFQdrB"
      },
      "source": [
        "#Import Random Forest Model\n",
        "from sklearn.ensemble import RandomForestClassifier\n",
        "\n",
        "clf=RandomForestClassifier(n_estimators=100)\n",
        "\n",
        "clf.fit(X_train,y_train)\n",
        "\n",
        "y_pred=clf.predict(X_test)"
      ],
      "execution_count": null,
      "outputs": []
    },
    {
      "cell_type": "code",
      "metadata": {
        "id": "tjIpjRiYQp3C",
        "colab": {
          "base_uri": "https://localhost:8080/",
          "height": 34
        },
        "outputId": "7f1d1dd6-d854-4419-c726-704016192f2a"
      },
      "source": [
        "print(\"Accuracy:\",metrics.accuracy_score(y_test, y_pred))"
      ],
      "execution_count": null,
      "outputs": [
        {
          "output_type": "stream",
          "text": [
            "Accuracy: 0.5651465798045603\n"
          ],
          "name": "stdout"
        }
      ]
    },
    {
      "cell_type": "code",
      "metadata": {
        "id": "igvzQjayVmKC",
        "colab": {
          "base_uri": "https://localhost:8080/",
          "height": 69
        },
        "outputId": "892b1daa-61c7-4f85-942a-c30e8b5c8895"
      },
      "source": [
        "X_df.columns"
      ],
      "execution_count": null,
      "outputs": [
        {
          "output_type": "execute_result",
          "data": {
            "text/plain": [
              "Index(['home_team', 'away_team', 'rank_difference', 'point_difference',\n",
              "       'average_rank', 'tournament', 'is_stake', 'neutral'],\n",
              "      dtype='object')"
            ]
          },
          "metadata": {
            "tags": []
          },
          "execution_count": 183
        }
      ]
    },
    {
      "cell_type": "code",
      "metadata": {
        "id": "-2wNbZezSBPr",
        "colab": {
          "base_uri": "https://localhost:8080/",
          "height": 173
        },
        "outputId": "0f811820-635a-406c-8ac4-c2f7f09cc374"
      },
      "source": [
        "feature_imp = pd.Series(clf.feature_importances_,index=X_df.columns).sort_values(ascending=False)\n",
        "feature_imp"
      ],
      "execution_count": null,
      "outputs": [
        {
          "output_type": "execute_result",
          "data": {
            "text/plain": [
              "rank_difference     0.325878\n",
              "average_rank        0.193207\n",
              "away_team           0.154117\n",
              "home_team           0.152462\n",
              "point_difference    0.096164\n",
              "tournament          0.055692\n",
              "neutral             0.012098\n",
              "is_stake            0.010381\n",
              "dtype: float64"
            ]
          },
          "metadata": {
            "tags": []
          },
          "execution_count": 163
        }
      ]
    },
    {
      "cell_type": "code",
      "metadata": {
        "id": "YErwsDP1V-aH",
        "colab": {
          "base_uri": "https://localhost:8080/",
          "height": 312
        },
        "outputId": "b9164173-21a5-41dc-94a6-ec4858ce1ab6"
      },
      "source": [
        "\n",
        "%matplotlib inline\n",
        "# Creating a bar plot\n",
        "sns.barplot(x=feature_imp, y=feature_imp.index)\n",
        "# Add labels to your graph\n",
        "plt.xlabel('Feature Importance Score')\n",
        "plt.ylabel('Features')\n",
        "plt.title(\"Visualizing Important Features\")\n",
        "plt.legend()\n",
        "plt.show()"
      ],
      "execution_count": null,
      "outputs": [
        {
          "output_type": "stream",
          "text": [
            "No handles with labels found to put in legend.\n"
          ],
          "name": "stderr"
        },
        {
          "output_type": "display_data",
          "data": {
            "image/png": "[encoded data removed]",
            "text/plain": [
              "<Figure size 432x288 with 1 Axes>"
            ]
          },
          "metadata": {
            "tags": []
          }
        }
      ]
    },
    {
      "cell_type": "markdown",
      "metadata": {
        "id": "6MAOjudnQ-fg"
      },
      "source": [
        "Decision Tree Classifier\n"
      ]
    },
    {
      "cell_type": "code",
      "metadata": {
        "id": "ch5RmcBsQ8uG"
      },
      "source": [
        "clf = DecisionTreeClassifier()\n",
        "\n",
        "clf = clf.fit(X_train,y_train)\n",
        "\n",
        "y_pred = clf.predict(X_test)"
      ],
      "execution_count": null,
      "outputs": []
    },
    {
      "cell_type": "code",
      "metadata": {
        "id": "KbI3M4vERF0_",
        "colab": {
          "base_uri": "https://localhost:8080/",
          "height": 34
        },
        "outputId": "daaaacd5-d99a-408d-98c8-47dcc39b74a7"
      },
      "source": [
        "print(\"Accuracy:\",metrics.accuracy_score(y_test, y_pred))"
      ],
      "execution_count": null,
      "outputs": [
        {
          "output_type": "stream",
          "text": [
            "Accuracy: 0.49185667752442996\n"
          ],
          "name": "stdout"
        }
      ]
    },
    {
      "cell_type": "markdown",
      "metadata": {
        "id": "UYDneis7KI2y"
      },
      "source": [
        "Neural Network Model"
      ]
    },
    {
      "cell_type": "markdown",
      "metadata": {
        "id": "4HbyQ3j-KI3C"
      },
      "source": [
        "Encode is won to one hot"
      ]
    },
    {
      "cell_type": "code",
      "metadata": {
        "id": "kf8LbRE9KI3D"
      },
      "source": [
        "y_train_nn = np.expand_dims(y_train, axis=1)"
      ],
      "execution_count": null,
      "outputs": []
    },
    {
      "cell_type": "code",
      "metadata": {
        "id": "pvuN7s_zKI3F"
      },
      "source": [
        "one_hot_encoder = preprocessing.OneHotEncoder()\n",
        "one_hot_encoder.fit_transform(y_train_nn)\n",
        "y_train_nn = one_hot_encoder.transform(y_train_nn).toarray()"
      ],
      "execution_count": null,
      "outputs": []
    },
    {
      "cell_type": "markdown",
      "metadata": {
        "id": "bGVOnuSHKI3I"
      },
      "source": [
        "Define model"
      ]
    },
    {
      "cell_type": "code",
      "metadata": {
        "id": "Hvkb9TuyKI3J",
        "colab": {
          "base_uri": "https://localhost:8080/",
          "height": 453
        },
        "outputId": "142ca407-70b9-4a57-b741-26e3a6fd2e54"
      },
      "source": [
        "nn_model = Sequential()\n",
        "nn_model.add(Dense(32, input_shape=(X_train.shape[-1],), activation='sigmoid'))\n",
        "nn_model.add(Dense(32, activation='relu'))\n",
        "nn_model.add(Dense(3, activation='relu'))"
      ],
      "execution_count": null,
      "outputs": [
        {
          "output_type": "error",
          "ename": "RuntimeError",
          "evalue": "ignored",
          "traceback": [
            "\u001b[0;31m---------------------------------------------------------------------------\u001b[0m",
            "\u001b[0;31mAttributeError\u001b[0m                            Traceback (most recent call last)",
            "\u001b[0;32m/usr/local/lib/python3.6/dist-packages/keras/backend/tensorflow_backend.py\u001b[0m in \u001b[0;36m_get_default_graph\u001b[0;34m()\u001b[0m\n\u001b[1;32m     65\u001b[0m     \u001b[0;32mtry\u001b[0m\u001b[0;34m:\u001b[0m\u001b[0;34m\u001b[0m\u001b[0;34m\u001b[0m\u001b[0m\n\u001b[0;32m---> 66\u001b[0;31m         \u001b[0;32mreturn\u001b[0m \u001b[0mtf\u001b[0m\u001b[0;34m.\u001b[0m\u001b[0mget_default_graph\u001b[0m\u001b[0;34m(\u001b[0m\u001b[0;34m)\u001b[0m\u001b[0;34m\u001b[0m\u001b[0;34m\u001b[0m\u001b[0m\n\u001b[0m\u001b[1;32m     67\u001b[0m     \u001b[0;32mexcept\u001b[0m \u001b[0mAttributeError\u001b[0m\u001b[0;34m:\u001b[0m\u001b[0;34m\u001b[0m\u001b[0;34m\u001b[0m\u001b[0m\n",
            "\u001b[0;31mAttributeError\u001b[0m: module 'tensorflow' has no attribute 'get_default_graph'",
            "\nDuring handling of the above exception, another exception occurred:\n",
            "\u001b[0;31mRuntimeError\u001b[0m                              Traceback (most recent call last)",
            "\u001b[0;32m<ipython-input-138-51574badadaa>\u001b[0m in \u001b[0;36m<module>\u001b[0;34m()\u001b[0m\n\u001b[0;32m----> 1\u001b[0;31m \u001b[0mnn_model\u001b[0m \u001b[0;34m=\u001b[0m \u001b[0mSequential\u001b[0m\u001b[0;34m(\u001b[0m\u001b[0;34m)\u001b[0m\u001b[0;34m\u001b[0m\u001b[0;34m\u001b[0m\u001b[0m\n\u001b[0m\u001b[1;32m      2\u001b[0m \u001b[0mnn_model\u001b[0m\u001b[0;34m.\u001b[0m\u001b[0madd\u001b[0m\u001b[0;34m(\u001b[0m\u001b[0mDense\u001b[0m\u001b[0;34m(\u001b[0m\u001b[0;36m32\u001b[0m\u001b[0;34m,\u001b[0m \u001b[0minput_shape\u001b[0m\u001b[0;34m=\u001b[0m\u001b[0;34m(\u001b[0m\u001b[0mX_train\u001b[0m\u001b[0;34m.\u001b[0m\u001b[0mshape\u001b[0m\u001b[0;34m[\u001b[0m\u001b[0;34m-\u001b[0m\u001b[0;36m1\u001b[0m\u001b[0;34m]\u001b[0m\u001b[0;34m,\u001b[0m\u001b[0;34m)\u001b[0m\u001b[0;34m,\u001b[0m \u001b[0mactivation\u001b[0m\u001b[0;34m=\u001b[0m\u001b[0;34m'sigmoid'\u001b[0m\u001b[0;34m)\u001b[0m\u001b[0;34m)\u001b[0m\u001b[0;34m\u001b[0m\u001b[0;34m\u001b[0m\u001b[0m\n\u001b[1;32m      3\u001b[0m \u001b[0mnn_model\u001b[0m\u001b[0;34m.\u001b[0m\u001b[0madd\u001b[0m\u001b[0;34m(\u001b[0m\u001b[0mDense\u001b[0m\u001b[0;34m(\u001b[0m\u001b[0;36m32\u001b[0m\u001b[0;34m,\u001b[0m \u001b[0mactivation\u001b[0m\u001b[0;34m=\u001b[0m\u001b[0;34m'relu'\u001b[0m\u001b[0;34m)\u001b[0m\u001b[0;34m)\u001b[0m\u001b[0;34m\u001b[0m\u001b[0;34m\u001b[0m\u001b[0m\n\u001b[1;32m      4\u001b[0m \u001b[0mnn_model\u001b[0m\u001b[0;34m.\u001b[0m\u001b[0madd\u001b[0m\u001b[0;34m(\u001b[0m\u001b[0mDense\u001b[0m\u001b[0;34m(\u001b[0m\u001b[0;36m3\u001b[0m\u001b[0;34m,\u001b[0m \u001b[0mactivation\u001b[0m\u001b[0;34m=\u001b[0m\u001b[0;34m'relu'\u001b[0m\u001b[0;34m)\u001b[0m\u001b[0;34m)\u001b[0m\u001b[0;34m\u001b[0m\u001b[0;34m\u001b[0m\u001b[0m\n",
            "\u001b[0;32m/usr/local/lib/python3.6/dist-packages/keras/engine/sequential.py\u001b[0m in \u001b[0;36m__init__\u001b[0;34m(self, layers, name)\u001b[0m\n\u001b[1;32m     86\u001b[0m \u001b[0;34m\u001b[0m\u001b[0m\n\u001b[1;32m     87\u001b[0m     \u001b[0;32mdef\u001b[0m \u001b[0m__init__\u001b[0m\u001b[0;34m(\u001b[0m\u001b[0mself\u001b[0m\u001b[0;34m,\u001b[0m \u001b[0mlayers\u001b[0m\u001b[0;34m=\u001b[0m\u001b[0;32mNone\u001b[0m\u001b[0;34m,\u001b[0m \u001b[0mname\u001b[0m\u001b[0;34m=\u001b[0m\u001b[0;32mNone\u001b[0m\u001b[0;34m)\u001b[0m\u001b[0;34m:\u001b[0m\u001b[0;34m\u001b[0m\u001b[0;34m\u001b[0m\u001b[0m\n\u001b[0;32m---> 88\u001b[0;31m         \u001b[0msuper\u001b[0m\u001b[0;34m(\u001b[0m\u001b[0mSequential\u001b[0m\u001b[0;34m,\u001b[0m \u001b[0mself\u001b[0m\u001b[0;34m)\u001b[0m\u001b[0;34m.\u001b[0m\u001b[0m__init__\u001b[0m\u001b[0;34m(\u001b[0m\u001b[0mname\u001b[0m\u001b[0;34m=\u001b[0m\u001b[0mname\u001b[0m\u001b[0;34m)\u001b[0m\u001b[0;34m\u001b[0m\u001b[0;34m\u001b[0m\u001b[0m\n\u001b[0m\u001b[1;32m     89\u001b[0m         \u001b[0mself\u001b[0m\u001b[0;34m.\u001b[0m\u001b[0m_build_input_shape\u001b[0m \u001b[0;34m=\u001b[0m \u001b[0;32mNone\u001b[0m\u001b[0;34m\u001b[0m\u001b[0;34m\u001b[0m\u001b[0m\n\u001b[1;32m     90\u001b[0m \u001b[0;34m\u001b[0m\u001b[0m\n",
            "\u001b[0;32m/usr/local/lib/python3.6/dist-packages/keras/legacy/interfaces.py\u001b[0m in \u001b[0;36mwrapper\u001b[0;34m(*args, **kwargs)\u001b[0m\n\u001b[1;32m     89\u001b[0m                 warnings.warn('Update your `' + object_name + '` call to the ' +\n\u001b[1;32m     90\u001b[0m                               'Keras 2 API: ' + signature, stacklevel=2)\n\u001b[0;32m---> 91\u001b[0;31m             \u001b[0;32mreturn\u001b[0m \u001b[0mfunc\u001b[0m\u001b[0;34m(\u001b[0m\u001b[0;34m*\u001b[0m\u001b[0margs\u001b[0m\u001b[0;34m,\u001b[0m \u001b[0;34m**\u001b[0m\u001b[0mkwargs\u001b[0m\u001b[0;34m)\u001b[0m\u001b[0;34m\u001b[0m\u001b[0;34m\u001b[0m\u001b[0m\n\u001b[0m\u001b[1;32m     92\u001b[0m         \u001b[0mwrapper\u001b[0m\u001b[0;34m.\u001b[0m\u001b[0m_original_function\u001b[0m \u001b[0;34m=\u001b[0m \u001b[0mfunc\u001b[0m\u001b[0;34m\u001b[0m\u001b[0;34m\u001b[0m\u001b[0m\n\u001b[1;32m     93\u001b[0m         \u001b[0;32mreturn\u001b[0m \u001b[0mwrapper\u001b[0m\u001b[0;34m\u001b[0m\u001b[0;34m\u001b[0m\u001b[0m\n",
            "\u001b[0;32m/usr/local/lib/python3.6/dist-packages/keras/engine/network.py\u001b[0m in \u001b[0;36m__init__\u001b[0;34m(self, *args, **kwargs)\u001b[0m\n\u001b[1;32m     95\u001b[0m         \u001b[0;32melse\u001b[0m\u001b[0;34m:\u001b[0m\u001b[0;34m\u001b[0m\u001b[0;34m\u001b[0m\u001b[0m\n\u001b[1;32m     96\u001b[0m             \u001b[0;31m# Subclassed network\u001b[0m\u001b[0;34m\u001b[0m\u001b[0;34m\u001b[0m\u001b[0;34m\u001b[0m\u001b[0m\n\u001b[0;32m---> 97\u001b[0;31m             \u001b[0mself\u001b[0m\u001b[0;34m.\u001b[0m\u001b[0m_init_subclassed_network\u001b[0m\u001b[0;34m(\u001b[0m\u001b[0;34m**\u001b[0m\u001b[0mkwargs\u001b[0m\u001b[0;34m)\u001b[0m\u001b[0;34m\u001b[0m\u001b[0;34m\u001b[0m\u001b[0m\n\u001b[0m\u001b[1;32m     98\u001b[0m \u001b[0;34m\u001b[0m\u001b[0m\n\u001b[1;32m     99\u001b[0m     \u001b[0;32mdef\u001b[0m \u001b[0m_base_init\u001b[0m\u001b[0;34m(\u001b[0m\u001b[0mself\u001b[0m\u001b[0;34m,\u001b[0m \u001b[0mname\u001b[0m\u001b[0;34m=\u001b[0m\u001b[0;32mNone\u001b[0m\u001b[0;34m,\u001b[0m \u001b[0mtrainable\u001b[0m\u001b[0;34m=\u001b[0m\u001b[0;32mTrue\u001b[0m\u001b[0;34m,\u001b[0m \u001b[0mdtype\u001b[0m\u001b[0;34m=\u001b[0m\u001b[0;32mNone\u001b[0m\u001b[0;34m)\u001b[0m\u001b[0;34m:\u001b[0m\u001b[0;34m\u001b[0m\u001b[0;34m\u001b[0m\u001b[0m\n",
            "\u001b[0;32m/usr/local/lib/python3.6/dist-packages/keras/engine/network.py\u001b[0m in \u001b[0;36m_init_subclassed_network\u001b[0;34m(self, name, **kwargs)\u001b[0m\n\u001b[1;32m    298\u001b[0m \u001b[0;34m\u001b[0m\u001b[0m\n\u001b[1;32m    299\u001b[0m     \u001b[0;32mdef\u001b[0m \u001b[0m_init_subclassed_network\u001b[0m\u001b[0;34m(\u001b[0m\u001b[0mself\u001b[0m\u001b[0;34m,\u001b[0m \u001b[0mname\u001b[0m\u001b[0;34m=\u001b[0m\u001b[0;32mNone\u001b[0m\u001b[0;34m,\u001b[0m \u001b[0;34m**\u001b[0m\u001b[0mkwargs\u001b[0m\u001b[0;34m)\u001b[0m\u001b[0;34m:\u001b[0m\u001b[0;34m\u001b[0m\u001b[0;34m\u001b[0m\u001b[0m\n\u001b[0;32m--> 300\u001b[0;31m         \u001b[0mself\u001b[0m\u001b[0;34m.\u001b[0m\u001b[0m_base_init\u001b[0m\u001b[0;34m(\u001b[0m\u001b[0mname\u001b[0m\u001b[0;34m=\u001b[0m\u001b[0mname\u001b[0m\u001b[0;34m,\u001b[0m \u001b[0;34m**\u001b[0m\u001b[0mkwargs\u001b[0m\u001b[0;34m)\u001b[0m\u001b[0;34m\u001b[0m\u001b[0;34m\u001b[0m\u001b[0m\n\u001b[0m\u001b[1;32m    301\u001b[0m         \u001b[0mself\u001b[0m\u001b[0;34m.\u001b[0m\u001b[0m_is_graph_network\u001b[0m \u001b[0;34m=\u001b[0m \u001b[0;32mFalse\u001b[0m\u001b[0;34m\u001b[0m\u001b[0;34m\u001b[0m\u001b[0m\n\u001b[1;32m    302\u001b[0m         \u001b[0mself\u001b[0m\u001b[0;34m.\u001b[0m\u001b[0m_expects_training_arg\u001b[0m \u001b[0;34m=\u001b[0m \u001b[0mhas_arg\u001b[0m\u001b[0;34m(\u001b[0m\u001b[0mself\u001b[0m\u001b[0;34m.\u001b[0m\u001b[0mcall\u001b[0m\u001b[0;34m,\u001b[0m \u001b[0;34m'training'\u001b[0m\u001b[0;34m)\u001b[0m\u001b[0;34m\u001b[0m\u001b[0;34m\u001b[0m\u001b[0m\n",
            "\u001b[0;32m/usr/local/lib/python3.6/dist-packages/keras/engine/network.py\u001b[0m in \u001b[0;36m_base_init\u001b[0;34m(self, name, trainable, dtype)\u001b[0m\n\u001b[1;32m    108\u001b[0m         \u001b[0;32mif\u001b[0m \u001b[0;32mnot\u001b[0m \u001b[0mname\u001b[0m\u001b[0;34m:\u001b[0m\u001b[0;34m\u001b[0m\u001b[0;34m\u001b[0m\u001b[0m\n\u001b[1;32m    109\u001b[0m             \u001b[0mprefix\u001b[0m \u001b[0;34m=\u001b[0m \u001b[0mself\u001b[0m\u001b[0;34m.\u001b[0m\u001b[0m__class__\u001b[0m\u001b[0;34m.\u001b[0m\u001b[0m__name__\u001b[0m\u001b[0;34m.\u001b[0m\u001b[0mlower\u001b[0m\u001b[0;34m(\u001b[0m\u001b[0;34m)\u001b[0m\u001b[0;34m\u001b[0m\u001b[0;34m\u001b[0m\u001b[0m\n\u001b[0;32m--> 110\u001b[0;31m             \u001b[0mname\u001b[0m \u001b[0;34m=\u001b[0m \u001b[0mprefix\u001b[0m \u001b[0;34m+\u001b[0m \u001b[0;34m'_'\u001b[0m \u001b[0;34m+\u001b[0m \u001b[0mstr\u001b[0m\u001b[0;34m(\u001b[0m\u001b[0mK\u001b[0m\u001b[0;34m.\u001b[0m\u001b[0mget_uid\u001b[0m\u001b[0;34m(\u001b[0m\u001b[0mprefix\u001b[0m\u001b[0;34m)\u001b[0m\u001b[0;34m)\u001b[0m\u001b[0;34m\u001b[0m\u001b[0;34m\u001b[0m\u001b[0m\n\u001b[0m\u001b[1;32m    111\u001b[0m         \u001b[0mself\u001b[0m\u001b[0;34m.\u001b[0m\u001b[0mname\u001b[0m \u001b[0;34m=\u001b[0m \u001b[0mname\u001b[0m\u001b[0;34m\u001b[0m\u001b[0;34m\u001b[0m\u001b[0m\n\u001b[1;32m    112\u001b[0m \u001b[0;34m\u001b[0m\u001b[0m\n",
            "\u001b[0;32m/usr/local/lib/python3.6/dist-packages/keras/backend/tensorflow_backend.py\u001b[0m in \u001b[0;36mget_uid\u001b[0;34m(prefix)\u001b[0m\n\u001b[1;32m     84\u001b[0m     \"\"\"\n\u001b[1;32m     85\u001b[0m     \u001b[0;32mglobal\u001b[0m \u001b[0m_GRAPH_UID_DICTS\u001b[0m\u001b[0;34m\u001b[0m\u001b[0;34m\u001b[0m\u001b[0m\n\u001b[0;32m---> 86\u001b[0;31m     \u001b[0mgraph\u001b[0m \u001b[0;34m=\u001b[0m \u001b[0m_get_default_graph\u001b[0m\u001b[0;34m(\u001b[0m\u001b[0;34m)\u001b[0m\u001b[0;34m\u001b[0m\u001b[0;34m\u001b[0m\u001b[0m\n\u001b[0m\u001b[1;32m     87\u001b[0m     \u001b[0;32mif\u001b[0m \u001b[0mgraph\u001b[0m \u001b[0;32mnot\u001b[0m \u001b[0;32min\u001b[0m \u001b[0m_GRAPH_UID_DICTS\u001b[0m\u001b[0;34m:\u001b[0m\u001b[0;34m\u001b[0m\u001b[0;34m\u001b[0m\u001b[0m\n\u001b[1;32m     88\u001b[0m         \u001b[0m_GRAPH_UID_DICTS\u001b[0m\u001b[0;34m[\u001b[0m\u001b[0mgraph\u001b[0m\u001b[0;34m]\u001b[0m \u001b[0;34m=\u001b[0m \u001b[0mdefaultdict\u001b[0m\u001b[0;34m(\u001b[0m\u001b[0mint\u001b[0m\u001b[0;34m)\u001b[0m\u001b[0;34m\u001b[0m\u001b[0;34m\u001b[0m\u001b[0m\n",
            "\u001b[0;32m/usr/local/lib/python3.6/dist-packages/keras/backend/tensorflow_backend.py\u001b[0m in \u001b[0;36m_get_default_graph\u001b[0;34m()\u001b[0m\n\u001b[1;32m     67\u001b[0m     \u001b[0;32mexcept\u001b[0m \u001b[0mAttributeError\u001b[0m\u001b[0;34m:\u001b[0m\u001b[0;34m\u001b[0m\u001b[0;34m\u001b[0m\u001b[0m\n\u001b[1;32m     68\u001b[0m         raise RuntimeError(\n\u001b[0;32m---> 69\u001b[0;31m             \u001b[0;34m'It looks like you are trying to use '\u001b[0m\u001b[0;34m\u001b[0m\u001b[0;34m\u001b[0m\u001b[0m\n\u001b[0m\u001b[1;32m     70\u001b[0m             \u001b[0;34m'a version of multi-backend Keras that '\u001b[0m\u001b[0;34m\u001b[0m\u001b[0;34m\u001b[0m\u001b[0m\n\u001b[1;32m     71\u001b[0m             \u001b[0;34m'does not support TensorFlow 2.0. We recommend '\u001b[0m\u001b[0;34m\u001b[0m\u001b[0;34m\u001b[0m\u001b[0m\n",
            "\u001b[0;31mRuntimeError\u001b[0m: It looks like you are trying to use a version of multi-backend Keras that does not support TensorFlow 2.0. We recommend using `tf.keras`, or alternatively, downgrading to TensorFlow 1.14."
          ]
        }
      ]
    },
    {
      "cell_type": "markdown",
      "metadata": {
        "id": "ugcos2yyKI3M"
      },
      "source": [
        "Compile Model"
      ]
    },
    {
      "cell_type": "code",
      "metadata": {
        "id": "lUEGQkGVKI3M",
        "colab": {
          "base_uri": "https://localhost:8080/",
          "height": 166
        },
        "outputId": "dcc4ca38-6d56-427d-9faf-4b9c62e687d8"
      },
      "source": [
        "nn_model.compile(loss='categorical_crossentropy', optimizer='adagrad', metrics=['accuracy'])"
      ],
      "execution_count": null,
      "outputs": [
        {
          "output_type": "error",
          "ename": "NameError",
          "evalue": "ignored",
          "traceback": [
            "\u001b[0;31m---------------------------------------------------------------------------\u001b[0m",
            "\u001b[0;31mNameError\u001b[0m                                 Traceback (most recent call last)",
            "\u001b[0;32m<ipython-input-134-2e42a9e3c51d>\u001b[0m in \u001b[0;36m<module>\u001b[0;34m()\u001b[0m\n\u001b[0;32m----> 1\u001b[0;31m \u001b[0mnn_model\u001b[0m\u001b[0;34m.\u001b[0m\u001b[0mcompile\u001b[0m\u001b[0;34m(\u001b[0m\u001b[0mloss\u001b[0m\u001b[0;34m=\u001b[0m\u001b[0;34m'categorical_crossentropy'\u001b[0m\u001b[0;34m,\u001b[0m \u001b[0moptimizer\u001b[0m\u001b[0;34m=\u001b[0m\u001b[0;34m'adagrad'\u001b[0m\u001b[0;34m,\u001b[0m \u001b[0mmetrics\u001b[0m\u001b[0;34m=\u001b[0m\u001b[0;34m[\u001b[0m\u001b[0;34m'accuracy'\u001b[0m\u001b[0;34m]\u001b[0m\u001b[0;34m)\u001b[0m\u001b[0;34m\u001b[0m\u001b[0;34m\u001b[0m\u001b[0m\n\u001b[0m",
            "\u001b[0;31mNameError\u001b[0m: name 'nn_model' is not defined"
          ]
        }
      ]
    },
    {
      "cell_type": "markdown",
      "metadata": {
        "id": "TiORHbgwKI3O"
      },
      "source": [
        "Train model"
      ]
    },
    {
      "cell_type": "code",
      "metadata": {
        "id": "8MNxIqImKI3P",
        "outputId": "e0105b91-65f0-4f9d-9c99-dae2763b18b1"
      },
      "source": [
        "nn_model.fit(X_train, y_train_nn, epochs=20)"
      ],
      "execution_count": null,
      "outputs": [
        {
          "output_type": "stream",
          "text": [
            "Epoch 1/20\n",
            "14735/14735 [==============================] - 0s 30us/step - loss: 1.0896 - accuracy: 0.4746\n",
            "Epoch 2/20\n",
            "14735/14735 [==============================] - 0s 26us/step - loss: 1.0233 - accuracy: 0.4916\n",
            "Epoch 3/20\n",
            "14735/14735 [==============================] - 0s 26us/step - loss: 1.0147 - accuracy: 0.4976\n",
            "Epoch 4/20\n",
            "14735/14735 [==============================] - 0s 26us/step - loss: 1.0115 - accuracy: 0.5000\n",
            "Epoch 5/20\n",
            "14735/14735 [==============================] - 0s 26us/step - loss: 1.0075 - accuracy: 0.5042\n",
            "Epoch 6/20\n",
            "14735/14735 [==============================] - 0s 27us/step - loss: 1.0052 - accuracy: 0.5030\n",
            "Epoch 7/20\n",
            "14735/14735 [==============================] - 0s 26us/step - loss: 1.0034 - accuracy: 0.5069\n",
            "Epoch 8/20\n",
            "14735/14735 [==============================] - 0s 26us/step - loss: 1.0021 - accuracy: 0.5061\n",
            "Epoch 9/20\n",
            "14735/14735 [==============================] - 0s 27us/step - loss: 1.0011 - accuracy: 0.5078\n",
            "Epoch 10/20\n",
            "14735/14735 [==============================] - 0s 27us/step - loss: 1.0000 - accuracy: 0.5100\n",
            "Epoch 11/20\n",
            "14735/14735 [==============================] - 0s 27us/step - loss: 0.9989 - accuracy: 0.5095\n",
            "Epoch 12/20\n",
            "14735/14735 [==============================] - 0s 27us/step - loss: 0.9986 - accuracy: 0.5108\n",
            "Epoch 13/20\n",
            "14735/14735 [==============================] - 0s 27us/step - loss: 0.9980 - accuracy: 0.5114\n",
            "Epoch 14/20\n",
            "14735/14735 [==============================] - 0s 27us/step - loss: 0.9974 - accuracy: 0.5125\n",
            "Epoch 15/20\n",
            "14735/14735 [==============================] - 0s 27us/step - loss: 0.9969 - accuracy: 0.5122\n",
            "Epoch 16/20\n",
            "14735/14735 [==============================] - 0s 27us/step - loss: 0.9965 - accuracy: 0.5108\n",
            "Epoch 17/20\n",
            "14735/14735 [==============================] - 0s 27us/step - loss: 0.9962 - accuracy: 0.5115\n",
            "Epoch 18/20\n",
            "14735/14735 [==============================] - 0s 26us/step - loss: 0.9956 - accuracy: 0.5122\n",
            "Epoch 19/20\n",
            "14735/14735 [==============================] - 0s 28us/step - loss: 0.9955 - accuracy: 0.5107\n",
            "Epoch 20/20\n",
            "14735/14735 [==============================] - 0s 26us/step - loss: 0.9949 - accuracy: 0.5125\n"
          ],
          "name": "stdout"
        },
        {
          "output_type": "execute_result",
          "data": {
            "text/plain": [
              "<keras.callbacks.callbacks.History at 0x7f5de0464bd0>"
            ]
          },
          "metadata": {
            "tags": []
          },
          "execution_count": 1067
        }
      ]
    },
    {
      "cell_type": "markdown",
      "metadata": {
        "id": "lAnHwBE-KI3S"
      },
      "source": [
        "Save neural network model"
      ]
    },
    {
      "cell_type": "code",
      "metadata": {
        "id": "_BJibUMmKI3T"
      },
      "source": [
        "nn_model.save_weights(\"nn_model.h5\")"
      ],
      "execution_count": null,
      "outputs": []
    },
    {
      "cell_type": "markdown",
      "metadata": {
        "id": "h3Fehd-T8o38"
      },
      "source": [
        "# Prediction / Results"
      ]
    },
    {
      "cell_type": "markdown",
      "metadata": {
        "id": "HWlN0LFEKI3V"
      },
      "source": [
        "Results of logistic regression model"
      ]
    },
    {
      "cell_type": "markdown",
      "metadata": {
        "id": "9bMuL0RBKI3W"
      },
      "source": [
        "Load model"
      ]
    },
    {
      "cell_type": "code",
      "metadata": {
        "id": "kzjH-0XCKI3X"
      },
      "source": [
        "loaded_model = pickle.load(open(\"logistic_regression_model\", 'rb'))"
      ],
      "execution_count": null,
      "outputs": []
    },
    {
      "cell_type": "markdown",
      "metadata": {
        "id": "7tQo5QzOKI3Y"
      },
      "source": [
        "Predict Accuracy"
      ]
    },
    {
      "cell_type": "code",
      "metadata": {
        "id": "V0QGrVTyKI3Z",
        "colab": {
          "base_uri": "https://localhost:8080/",
          "height": 34
        },
        "outputId": "b97d6d1c-507c-49be-9aa5-ee8870660860"
      },
      "source": [
        "logistic_regression_model.score(X_test, y_test)"
      ],
      "execution_count": null,
      "outputs": [
        {
          "output_type": "execute_result",
          "data": {
            "text/plain": [
              "0.5887622149837134"
            ]
          },
          "metadata": {
            "tags": []
          },
          "execution_count": 217
        }
      ]
    },
    {
      "cell_type": "markdown",
      "metadata": {
        "id": "Q5cZj_MsKI3d"
      },
      "source": [
        "Results of naive bayes model"
      ]
    },
    {
      "cell_type": "markdown",
      "metadata": {
        "id": "UdB6gIf-KI3e"
      },
      "source": [
        "Load model"
      ]
    },
    {
      "cell_type": "code",
      "metadata": {
        "id": "_cKLtPHrKI3e"
      },
      "source": [
        "loaded_model = pickle.load(open(\"naive_bayes_model\", 'rb'))"
      ],
      "execution_count": null,
      "outputs": []
    },
    {
      "cell_type": "markdown",
      "metadata": {
        "id": "Ny9-0AHbKI3g"
      },
      "source": [
        "Predict Accuracy"
      ]
    },
    {
      "cell_type": "code",
      "metadata": {
        "id": "byXtLgapKI3h",
        "colab": {
          "base_uri": "https://localhost:8080/",
          "height": 34
        },
        "outputId": "032427ac-377c-493d-c1e5-1e5db1c15348"
      },
      "source": [
        "y_pred = naive_bayes_model.predict(X_test)\n",
        "print(\"Accuracy:\",metrics.accuracy_score(y_test, y_pred))"
      ],
      "execution_count": null,
      "outputs": [
        {
          "output_type": "stream",
          "text": [
            "Accuracy: 0.5703040173724213\n"
          ],
          "name": "stdout"
        }
      ]
    },
    {
      "cell_type": "markdown",
      "metadata": {
        "id": "xRFB6JOBKI3l"
      },
      "source": [
        "Results of knn model"
      ]
    },
    {
      "cell_type": "markdown",
      "metadata": {
        "id": "3EUDI6kaKI3m"
      },
      "source": [
        "Load model"
      ]
    },
    {
      "cell_type": "code",
      "metadata": {
        "id": "wBKh4dY3KI3q"
      },
      "source": [
        "loaded_model = pickle.load(open(\"knn_model\", 'rb'))"
      ],
      "execution_count": null,
      "outputs": []
    },
    {
      "cell_type": "markdown",
      "metadata": {
        "id": "XrFHUT9EKI3v"
      },
      "source": [
        "Predict Accuracy"
      ]
    },
    {
      "cell_type": "code",
      "metadata": {
        "id": "uTYq0hz4KI3w",
        "colab": {
          "base_uri": "https://localhost:8080/",
          "height": 34
        },
        "outputId": "6fa2f879-efed-4d49-d8b1-c13597db8882"
      },
      "source": [
        "y_pred = knn_model.predict(X_test)\n",
        "print(\"Accuracy:\",metrics.accuracy_score(y_test, y_pred))"
      ],
      "execution_count": null,
      "outputs": [
        {
          "output_type": "stream",
          "text": [
            "Accuracy: 0.49728555917481\n"
          ],
          "name": "stdout"
        }
      ]
    },
    {
      "cell_type": "markdown",
      "metadata": {
        "id": "0-oeLUXvKI3z"
      },
      "source": [
        "Results of svm model"
      ]
    },
    {
      "cell_type": "markdown",
      "metadata": {
        "id": "KvfrAsEUKI3z"
      },
      "source": [
        "Load model"
      ]
    },
    {
      "cell_type": "code",
      "metadata": {
        "id": "ST2VRSHfKI3z"
      },
      "source": [
        "loaded_model = pickle.load(open(\"svm_model\", 'rb'))"
      ],
      "execution_count": null,
      "outputs": []
    },
    {
      "cell_type": "markdown",
      "metadata": {
        "id": "CFhiPFiIKI31"
      },
      "source": [
        "Predict Accuracy"
      ]
    },
    {
      "cell_type": "code",
      "metadata": {
        "id": "cIsL70LeKI31",
        "colab": {
          "base_uri": "https://localhost:8080/",
          "height": 34
        },
        "outputId": "8632589a-316d-48d2-d803-301f2a15cf87"
      },
      "source": [
        "y_pred = svm_model.predict(X_test)\n",
        "print(\"Accuracy:\",metrics.accuracy_score(y_test, y_pred))"
      ],
      "execution_count": null,
      "outputs": [
        {
          "output_type": "stream",
          "text": [
            "Accuracy: 0.5754614549402823\n"
          ],
          "name": "stdout"
        }
      ]
    },
    {
      "cell_type": "markdown",
      "metadata": {
        "id": "cNmoF_SOKI36"
      },
      "source": [
        "Results of neural network model"
      ]
    },
    {
      "cell_type": "markdown",
      "metadata": {
        "id": "3ZHH54ymKI37"
      },
      "source": [
        "Load model"
      ]
    },
    {
      "cell_type": "code",
      "metadata": {
        "id": "lSaLMop0KI37"
      },
      "source": [
        "nn_model.load_weights('nn_model.h5')"
      ],
      "execution_count": null,
      "outputs": []
    },
    {
      "cell_type": "markdown",
      "metadata": {
        "id": "YstS69f5KI39"
      },
      "source": [
        "Predict Accuracy"
      ]
    },
    {
      "cell_type": "markdown",
      "metadata": {
        "id": "VKIq3Os4KI4A"
      },
      "source": [
        "Function to get prediction"
      ]
    },
    {
      "cell_type": "code",
      "metadata": {
        "id": "h_pbx9sVKI4B"
      },
      "source": [
        "def predict_match(home_team, away_team, home_rank, away_rank, home_points, away_points, tournament, is_stake, neutral):\n",
        "    rank_difference = home_rank - away_rank\n",
        "    point_difference = home_points - away_points\n",
        "    average_rank = (home_rank + away_rank) / 2\n",
        "    data = {'home_team':label_encoder_home.transform([home_team]), 'away_team':label_encoder_away.transform([away_team]), 'rank_difference':rank_difference, 'point_difference':point_difference, 'average_rank':average_rank, 'tournament':label_encoder.transform([tournament]), 'is_stake':is_stake, 'neutral':neutral}\n",
        "    data_frame = pd.DataFrame(data, columns=['home_team', 'away_team', 'rank_difference', 'point_difference', 'average_rank', 'tournament', 'is_stake', 'neutral'])\n",
        "    if(logistic_regression_model.predict(data_frame)[0] == 1):\n",
        "        print(home_team + \" will win\")\n",
        "    elif(logistic_regression_model.predict(data_frame)[0] == 2):\n",
        "        print(away_team + \" will win\")\n",
        "    else:\n",
        "        print(\"Match will end in a tie\")"
      ],
      "execution_count": null,
      "outputs": []
    },
    {
      "cell_type": "markdown",
      "metadata": {
        "id": "X6kihQREKI4D"
      },
      "source": [
        "Call function to predict between Germany and Switzerland"
      ]
    },
    {
      "cell_type": "code",
      "metadata": {
        "id": "i1Qg0CD9KI4E",
        "colab": {
          "base_uri": "https://localhost:8080/",
          "height": 34
        },
        "outputId": "2cf2c151-1f04-44b6-9951-8a410ffeaa71"
      },
      "source": [
        "predict_match('Germany', 'Switzerland', 1, 10, 900, 700, 'UEFA Euro', True, False)"
      ],
      "execution_count": null,
      "outputs": [
        {
          "output_type": "stream",
          "text": [
            "Switzerland will win\n"
          ],
          "name": "stdout"
        }
      ]
    },
    {
      "cell_type": "markdown",
      "metadata": {
        "id": "5P7Yf8dM8s5w"
      },
      "source": [
        "# Visualization"
      ]
    },
    {
      "cell_type": "markdown",
      "metadata": {
        "id": "XbPIU_uPKI4G"
      },
      "source": [
        "Confusion Matrix for logistic regression model"
      ]
    },
    {
      "cell_type": "code",
      "metadata": {
        "id": "AH7Q0iAIKI4H",
        "colab": {
          "base_uri": "https://localhost:8080/",
          "height": 282
        },
        "outputId": "cd4e5631-07a3-41f4-dcf8-9cbf11e0cc63"
      },
      "source": [
        "cm = confusion_matrix(y_test, logistic_regression_model.predict(X_test))\n",
        "sns.heatmap(cm, cmap=\"Blues\")"
      ],
      "execution_count": null,
      "outputs": [
        {
          "output_type": "execute_result",
          "data": {
            "text/plain": [
              "<matplotlib.axes._subplots.AxesSubplot at 0x7fe60cd73e80>"
            ]
          },
          "metadata": {
            "tags": []
          },
          "execution_count": 230
        },
        {
          "output_type": "display_data",
          "data": {
            "image/png": "[encoded data removed]",
            "text/plain": [
              "<Figure size 432x288 with 2 Axes>"
            ]
          },
          "metadata": {
            "tags": []
          }
        }
      ]
    },
    {
      "cell_type": "markdown",
      "metadata": {
        "id": "1B4ydpinKI4K"
      },
      "source": [
        "Confusion Matrix for naive bayes model"
      ]
    },
    {
      "cell_type": "code",
      "metadata": {
        "id": "0U-tKlrXKI4K",
        "colab": {
          "base_uri": "https://localhost:8080/",
          "height": 282
        },
        "outputId": "98b32fab-715f-4584-b62b-446ca2f4f1f4"
      },
      "source": [
        "cm = confusion_matrix(y_test, naive_bayes_model.predict(X_test))\n",
        "sns.heatmap(cm, cmap=\"Blues\")"
      ],
      "execution_count": null,
      "outputs": [
        {
          "output_type": "execute_result",
          "data": {
            "text/plain": [
              "<matplotlib.axes._subplots.AxesSubplot at 0x7fe60b076da0>"
            ]
          },
          "metadata": {
            "tags": []
          },
          "execution_count": 231
        },
        {
          "output_type": "display_data",
          "data": {
            "image/png": "[encoded data removed]",
            "text/plain": [
              "<Figure size 432x288 with 2 Axes>"
            ]
          },
          "metadata": {
            "tags": []
          }
        }
      ]
    },
    {
      "cell_type": "markdown",
      "metadata": {
        "id": "VkGudc0zKI4N"
      },
      "source": [
        "Confusion Matrix for knn model"
      ]
    },
    {
      "cell_type": "code",
      "metadata": {
        "id": "XiYnq5h3KI4O",
        "outputId": "d9499c66-b46c-491a-d90b-06c329f90fed"
      },
      "source": [
        "cm = confusion_matrix(y_test, knn_model.predict(X_test))\n",
        "sns.heatmap(cm, cmap=\"Blues\")"
      ],
      "execution_count": null,
      "outputs": [
        {
          "output_type": "execute_result",
          "data": {
            "text/plain": [
              "<matplotlib.axes._subplots.AxesSubplot at 0x7f5de070aa90>"
            ]
          },
          "metadata": {
            "tags": []
          },
          "execution_count": 1081
        },
        {
          "output_type": "display_data",
          "data": {
            "image/png": "[encoded data removed]",
            "text/plain": [
              "<Figure size 432x288 with 2 Axes>"
            ]
          },
          "metadata": {
            "tags": [],
            "needs_background": "light"
          }
        }
      ]
    },
    {
      "cell_type": "markdown",
      "metadata": {
        "id": "ICtIo59gKI4R"
      },
      "source": [
        "Confusion Matrix for svm model"
      ]
    },
    {
      "cell_type": "code",
      "metadata": {
        "id": "6O83oXE5KI4R",
        "outputId": "55ba3fb2-4e75-458e-964d-f80f3224f491"
      },
      "source": [
        "cm = confusion_matrix(y_test, svm_model.predict(X_test))\n",
        "sns.heatmap(cm, cmap=\"Blues\")"
      ],
      "execution_count": null,
      "outputs": [
        {
          "output_type": "execute_result",
          "data": {
            "text/plain": [
              "<matplotlib.axes._subplots.AxesSubplot at 0x7f5de03ca450>"
            ]
          },
          "metadata": {
            "tags": []
          },
          "execution_count": 1082
        },
        {
          "output_type": "display_data",
          "data": {
            "image/png": "[encoded data removed]",
            "text/plain": [
              "<Figure size 432x288 with 2 Axes>"
            ]
          },
          "metadata": {
            "tags": [],
            "needs_background": "light"
          }
        }
      ]
    },
    {
      "cell_type": "markdown",
      "metadata": {
        "id": "T57VhhnyKI4U"
      },
      "source": [
        "Confusion matrix for neural network model"
      ]
    },
    {
      "cell_type": "code",
      "metadata": {
        "id": "1aSU-JK3KI4V",
        "outputId": "5c45ff3c-6c59-485c-c54c-bbdd020a26fb"
      },
      "source": [
        "predictions = nn_model.predict_classes(X_test)\n",
        "cm = confusion_matrix(y_test.to_numpy(), predictions)\n",
        "sns.heatmap(cm, cmap=\"Blues\")"
      ],
      "execution_count": null,
      "outputs": [
        {
          "output_type": "execute_result",
          "data": {
            "text/plain": [
              "<matplotlib.axes._subplots.AxesSubplot at 0x7f5de0310b90>"
            ]
          },
          "metadata": {
            "tags": []
          },
          "execution_count": 1083
        },
        {
          "output_type": "display_data",
          "data": {
            "image/png": "[encoded data removed]",
            "text/plain": [
              "<Figure size 432x288 with 2 Axes>"
            ]
          },
          "metadata": {
            "tags": [],
            "needs_background": "light"
          }
        }
      ]
    },
    {
      "cell_type": "markdown",
      "metadata": {
        "id": "Ub5WtlSUKI4Y"
      },
      "source": [
        "Frequency of predicted values"
      ]
    },
    {
      "cell_type": "code",
      "metadata": {
        "id": "UaH8S0qrKI4Y",
        "outputId": "02d79bad-9a8e-4042-e1c1-ccc1673708fd"
      },
      "source": [
        "unique_elements, counts_elements = np.unique(predictions, return_counts=True)\n",
        "print(np.asarray((unique_elements, counts_elements)))"
      ],
      "execution_count": null,
      "outputs": [
        {
          "output_type": "stream",
          "text": [
            "[[   0    1    2]\n",
            " [1031   10 2643]]\n"
          ],
          "name": "stdout"
        }
      ]
    },
    {
      "cell_type": "markdown",
      "metadata": {
        "id": "Ei0ZaeOJKI4a"
      },
      "source": [
        "Pie Chart representing wins, losses, ties"
      ]
    },
    {
      "cell_type": "code",
      "metadata": {
        "id": "_uuT0j6KKI4b",
        "outputId": "e476b5cd-5c58-4da6-a274-d2d09e3e00c0"
      },
      "source": [
        "labels = 'Home country won', 'Home country Lost', 'Tie'\n",
        "sizes = [len(merged_df.loc[merged_df['is_won']==True]), len(merged_df.loc[merged_df['is_won']==False]),len(merged_df.loc[merged_df['away_score']==merged_df['home_score']])]\n",
        "colors = ['skyblue', 'yellowgreen', 'lightcoral']\n",
        "explode = (0, 0, 0.1)  # explode 1st slice\n",
        "\n",
        "# Plot\n",
        "plt.pie(sizes, explode=explode, labels=labels, colors=colors,\n",
        "autopct='%1.1f%%', shadow=True, startangle=140)\n",
        "\n",
        "plt.axis('equal')\n",
        "plt.show()"
      ],
      "execution_count": null,
      "outputs": [
        {
          "output_type": "display_data",
          "data": {
            "image/png": "[encoded data removed]",
            "text/plain": [
              "<Figure size 432x288 with 1 Axes>"
            ]
          },
          "metadata": {
            "tags": []
          }
        }
      ]
    },
    {
      "cell_type": "markdown",
      "metadata": {
        "id": "gF5DCx2pKI4e"
      },
      "source": [
        "Function to show change in ranks and poinsts over time"
      ]
    },
    {
      "cell_type": "code",
      "metadata": {
        "id": "ruexmFTaKI4f",
        "outputId": "c4f576db-d61a-486c-fd02-2a25a67a65ba"
      },
      "source": [
        "rankings_df.dtypes"
      ],
      "execution_count": null,
      "outputs": [
        {
          "output_type": "execute_result",
          "data": {
            "text/plain": [
              "country_full        object\n",
              "rank_year            int64\n",
              "rank               float64\n",
              "weighted_points    float64\n",
              "dtype: object"
            ]
          },
          "metadata": {
            "tags": []
          },
          "execution_count": 1086
        }
      ]
    },
    {
      "cell_type": "code",
      "metadata": {
        "id": "64ElB8DWKI4h"
      },
      "source": [
        "def plot_graph(a,b): \n",
        "  # x axis values \n",
        "  x =  rankings_df['rank_year'].loc[rankings_df['country_full']==a]\n",
        "  # corresponding y axis values \n",
        "  y =  rankings_df[b].loc[rankings_df['country_full']==a]\n",
        "    \n",
        "  # plotting the points  \n",
        "  plt.plot(x, y)  \n",
        "  \n",
        "  \n",
        "  # naming the x axis \n",
        "  plt.xlabel('Year') \n",
        "  # naming the y axis \n",
        "  plt.ylabel(b) \n",
        "    \n",
        "  # giving a title to my graph \n",
        "  plt.title('Change in ' + b + ' of ' + a) \n",
        "    \n",
        "  # function to show the plot \n",
        "  plt.show()"
      ],
      "execution_count": null,
      "outputs": []
    },
    {
      "cell_type": "markdown",
      "metadata": {
        "id": "LfuH_4sZKI4j"
      },
      "source": [
        "Plot rank of Germany"
      ]
    },
    {
      "cell_type": "code",
      "metadata": {
        "scrolled": true,
        "id": "07EVsRTfKI4k",
        "outputId": "83390d3f-37f5-4939-ea40-03733ef393c3"
      },
      "source": [
        "plot_graph('Germany','rank')"
      ],
      "execution_count": null,
      "outputs": [
        {
          "output_type": "display_data",
          "data": {
            "image/png": "[encoded data removed]",
            "text/plain": [
              "<Figure size 432x288 with 1 Axes>"
            ]
          },
          "metadata": {
            "tags": [],
            "needs_background": "light"
          }
        }
      ]
    },
    {
      "cell_type": "markdown",
      "metadata": {
        "id": "mvDFqz2wKI4m"
      },
      "source": [
        "Plot rank of Switzerland"
      ]
    },
    {
      "cell_type": "code",
      "metadata": {
        "id": "gNeVn0YdKI4n",
        "outputId": "18e838dc-f331-4ef0-e9d0-3b3809b37701"
      },
      "source": [
        "plot_graph('Switzerland','rank')"
      ],
      "execution_count": null,
      "outputs": [
        {
          "output_type": "display_data",
          "data": {
            "image/png": "[encoded data removed]",
            "text/plain": [
              "<Figure size 432x288 with 1 Axes>"
            ]
          },
          "metadata": {
            "tags": [],
            "needs_background": "light"
          }
        }
      ]
    },
    {
      "cell_type": "markdown",
      "metadata": {
        "id": "a5uoZtREKI4v"
      },
      "source": [
        "Generate data for confederations"
      ]
    },
    {
      "cell_type": "code",
      "metadata": {
        "id": "4C5UKfyNKI4w"
      },
      "source": [
        "rankings_df = pd.read_csv(\"/home/anish/Engineering/TE/Sem2/SL6/Mini Project/fifa_ranking.csv\")\n",
        "rankings_df = rankings_df.loc[:,['rank', 'country_full', 'cur_year_avg_weighted', 'rank_date', 'two_year_ago_weighted', 'three_year_ago_weighted', 'confederation']]\n",
        "group1=rankings_df['confederation'].unique()\n",
        "group1\n",
        "mean_rank=[]\n",
        "mean_points=[]\n",
        "for a in group1:\n",
        "  c=rankings_df['rank'].loc[rankings_df['confederation']==a].mean()\n",
        "  d=rankings_df['rank'].loc[rankings_df['confederation']==a].mean()\n",
        "  mean_rank.append(c)\n",
        "  mean_points.append(d)"
      ],
      "execution_count": null,
      "outputs": []
    },
    {
      "cell_type": "markdown",
      "metadata": {
        "id": "QafY_vYSKI4y"
      },
      "source": [
        "Ranks by confederation"
      ]
    },
    {
      "cell_type": "code",
      "metadata": {
        "id": "3aDPtfpGKI4y",
        "outputId": "02a666c0-ed7d-4687-ffdd-7d2467557e95"
      },
      "source": [
        "fig = plt.figure()\n",
        "ax = fig.add_axes([0,0,1,1])\n",
        "ax.bar(group1,mean_rank)\n",
        "ax.set_ylabel('Avg Rank')\n",
        "plt.show()"
      ],
      "execution_count": null,
      "outputs": [
        {
          "output_type": "display_data",
          "data": {
            "image/png": "[encoded data removed]",
            "text/plain": [
              "<Figure size 432x288 with 1 Axes>"
            ]
          },
          "metadata": {
            "tags": [],
            "needs_background": "light"
          }
        }
      ]
    },
    {
      "cell_type": "markdown",
      "metadata": {
        "id": "_Dn-I8pfKI40"
      },
      "source": [
        "Points by confederation"
      ]
    },
    {
      "cell_type": "code",
      "metadata": {
        "id": "00_4LUsCKI41",
        "outputId": "54c75e07-6777-4c24-c4fd-336614c24583"
      },
      "source": [
        "fig = plt.figure()\n",
        "ax = fig.add_axes([0,0,1,1])\n",
        "ax.bar(group1,mean_points)\n",
        "ax.set_ylabel('Avg weighted points')\n",
        "plt.show()"
      ],
      "execution_count": null,
      "outputs": [
        {
          "output_type": "display_data",
          "data": {
            "image/png": "[encoded data removed]",
            "text/plain": [
              "<Figure size 432x288 with 1 Axes>"
            ]
          },
          "metadata": {
            "tags": [],
            "needs_background": "light"
          }
        }
      ]
    }
  ]
}